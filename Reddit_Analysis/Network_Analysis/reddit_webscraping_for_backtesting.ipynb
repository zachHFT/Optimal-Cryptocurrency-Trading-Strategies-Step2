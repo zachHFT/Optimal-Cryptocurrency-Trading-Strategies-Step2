{
 "cells": [
  {
   "cell_type": "markdown",
   "id": "ff049fab",
   "metadata": {},
   "source": [
    "### Deeper Network Analysis \n",
    "\n",
    "Now let us extract information from the popular cryptocurrency subreddits to find communities of influencial authors. We offer a list of top subreddits in the field, and then build a graph recursively. \n",
    "\n",
    "Code adapted from: https://medium.com/social-media-theories-ethics-and-analytics/network-analysis-from-social-media-data-with-networkx-13605d711590"
   ]
  },
  {
   "cell_type": "code",
   "execution_count": 1,
   "id": "f9363202",
   "metadata": {},
   "outputs": [],
   "source": [
    "import praw \n",
    "import prawcore\n",
    "import pandas as pd\n",
    "import datetime as dt\n",
    "import networkx as nx\n",
    "from networkx.algorithms import bipartite\n",
    "import numpy as np\n",
    "import requests\n",
    "import json\n",
    "import sys\n",
    "import traceback\n",
    "import time\n",
    "import matplotlib.pyplot as plt\n",
    "import matplotlib.cm as cm"
   ]
  },
  {
   "cell_type": "code",
   "execution_count": 2,
   "id": "966cd847",
   "metadata": {},
   "outputs": [
    {
     "name": "stderr",
     "output_type": "stream",
     "text": [
      "Version 7.4.0 of praw is outdated. Version 7.5.0 was released 3 days ago.\n"
     ]
    }
   ],
   "source": [
    "client_id = \"rax4hz8_P0_ttyt8crPYEg\"\n",
    "client_secret = \"7zKse44yWl7Dge7kYQV6fKs20IzLdw\"\n",
    "user_agent = \"data_analysis_crypto_sentiment v1.0 by /u/K_C_7\"\n",
    "\n",
    "reddit = praw.Reddit(client_id=client_id, client_secret=client_secret, user_agent=user_agent)"
   ]
  },
  {
   "cell_type": "code",
   "execution_count": 3,
   "id": "56f16897",
   "metadata": {},
   "outputs": [],
   "source": [
    "popular_crypto_subs = ('bitcoin+'\\\n",
    "                       'btc+'\\\n",
    "                       'CryptoMarkets+'\\\n",
    "                       'bitcoinbeginners+'\\\n",
    "                       'CryptoCurrencies+'\\\n",
    "                       'altcoin+'\\\n",
    "                       'icocrypto+'\\\n",
    "                       'CryptoCurrencyTrading+'\\\n",
    "                       'Crypto_General+'\\\n",
    "                       'ico+'\\\n",
    "                       'blockchain+'\\\n",
    "                       'Best Altcoin Subreddits+'\\\n",
    "                       'ethereum+'\\\n",
    "                       'Ripple+'\\\n",
    "                       'litecoin+'\\\n",
    "                       'Monero+'\\\n",
    "                       'Stellar+'\\\n",
    "                       'binance+'\\\n",
    "                       'CoinBase+'\\\n",
    "                       'ledgerwallet+'\\\n",
    "                       'defi+'\\\n",
    "                       'EthTrader+'\\\n",
    "                       'ethfinance'\\\n",
    "                       'LitecoinTraders')"
   ]
  },
  {
   "cell_type": "markdown",
   "id": "9ac892a0",
   "metadata": {},
   "source": [
    "We now define a recursive function ```recursive_node_adder``` whose inputs are the graph in its current state, a comment and a comment's parent author. The goal is to construct a graph $g$ whose nodes are authors of comments and submissions, and the edges which connect them signify that an author has repsonded to another author's reddit input. In this way, it is sensible to define a <b> directed graph </b>, where now edges have a direction, and if redditor $r$ responds to a comment/submission of redditor $r'$, then $r \\to r'$ is a directed link between $r$ and $r'$."
   ]
  },
  {
   "cell_type": "code",
   "execution_count": 9,
   "id": "b727aab0",
   "metadata": {},
   "outputs": [],
   "source": [
    "def recursive_node_adder(g, comment, parent_author):\n",
    "    '''Recursively process comments and add them to the graph g'''    \n",
    "    if not (comment.author is None):\n",
    "        # Check if we have the node already in our graph\n",
    "        if (comment.author not in g.nodes):\n",
    "            g.add_node(comment.author)\n",
    "        # Create an edge between this comment author and the parent author\n",
    "        g.add_edge(comment.author, parent_author)\n",
    "        # Iterate through the comments\n",
    "        for reply in comment.replies.list():\n",
    "            if isinstance(reply, praw.models.MoreComments):\n",
    "                continue\n",
    "            if (comment.author is None) or (parent_author is None):\n",
    "                continue\n",
    "            # Recursively process this reply\n",
    "            recursive_node_adder(g, reply, comment.author)"
   ]
  },
  {
   "cell_type": "markdown",
   "id": "253b92a6",
   "metadata": {},
   "source": [
    "Now we extract the submissions and their metadata from the popular cryptocurrency subreddits over the past month. For the sake of time, we limit the search to the top $n$ submissions where $n$ is given the name ``` limit ``` below. If $n$ is too large during the processing one might interrupt the loop after a large enough number of iterations. "
   ]
  },
  {
   "cell_type": "code",
   "execution_count": 10,
   "id": "96b30410",
   "metadata": {},
   "outputs": [
    {
     "name": "stdout",
     "output_type": "stream",
     "text": [
      "0\n"
     ]
    },
    {
     "ename": "KeyboardInterrupt",
     "evalue": "",
     "output_type": "error",
     "traceback": [
      "\u001b[0;31m---------------------------------------------------------------------------\u001b[0m",
      "\u001b[0;31mKeyboardInterrupt\u001b[0m                         Traceback (most recent call last)",
      "\u001b[0;32m/var/folders/8y/h2kzxz1x3xq6whl5h66m88200000gn/T/ipykernel_11445/3818707476.py\u001b[0m in \u001b[0;36m<module>\u001b[0;34m\u001b[0m\n\u001b[1;32m     19\u001b[0m         \u001b[0mpost\u001b[0m\u001b[0;34m.\u001b[0m\u001b[0mcomment_limit\u001b[0m \u001b[0;34m=\u001b[0m \u001b[0mbreadthCommentCount\u001b[0m\u001b[0;34m\u001b[0m\u001b[0;34m\u001b[0m\u001b[0m\n\u001b[1;32m     20\u001b[0m         \u001b[0;31m# Get the top few comments\u001b[0m\u001b[0;34m\u001b[0m\u001b[0;34m\u001b[0m\u001b[0;34m\u001b[0m\u001b[0m\n\u001b[0;32m---> 21\u001b[0;31m         \u001b[0;32mfor\u001b[0m \u001b[0mcomment\u001b[0m \u001b[0;32min\u001b[0m \u001b[0mpost\u001b[0m\u001b[0;34m.\u001b[0m\u001b[0mcomments\u001b[0m\u001b[0;34m.\u001b[0m\u001b[0mlist\u001b[0m\u001b[0;34m(\u001b[0m\u001b[0;34m)\u001b[0m\u001b[0;34m:\u001b[0m\u001b[0;34m\u001b[0m\u001b[0;34m\u001b[0m\u001b[0m\n\u001b[0m\u001b[1;32m     22\u001b[0m             \u001b[0;31m# Skip MoreComment objects, which don't have authors\u001b[0m\u001b[0;34m\u001b[0m\u001b[0;34m\u001b[0m\u001b[0;34m\u001b[0m\u001b[0m\n\u001b[1;32m     23\u001b[0m             \u001b[0;32mif\u001b[0m \u001b[0misinstance\u001b[0m\u001b[0;34m(\u001b[0m\u001b[0mcomment\u001b[0m\u001b[0;34m,\u001b[0m \u001b[0mpraw\u001b[0m\u001b[0;34m.\u001b[0m\u001b[0mmodels\u001b[0m\u001b[0;34m.\u001b[0m\u001b[0mMoreComments\u001b[0m\u001b[0;34m)\u001b[0m\u001b[0;34m:\u001b[0m\u001b[0;34m\u001b[0m\u001b[0;34m\u001b[0m\u001b[0m\n",
      "\u001b[0;32m/opt/anaconda3/lib/python3.7/site-packages/praw/models/reddit/base.py\u001b[0m in \u001b[0;36m__getattr__\u001b[0;34m(self, attribute)\u001b[0m\n\u001b[1;32m     32\u001b[0m         \u001b[0;34m\"\"\"Return the value of `attribute`.\"\"\"\u001b[0m\u001b[0;34m\u001b[0m\u001b[0;34m\u001b[0m\u001b[0m\n\u001b[1;32m     33\u001b[0m         \u001b[0;32mif\u001b[0m \u001b[0;32mnot\u001b[0m \u001b[0mattribute\u001b[0m\u001b[0;34m.\u001b[0m\u001b[0mstartswith\u001b[0m\u001b[0;34m(\u001b[0m\u001b[0;34m\"_\"\u001b[0m\u001b[0;34m)\u001b[0m \u001b[0;32mand\u001b[0m \u001b[0;32mnot\u001b[0m \u001b[0mself\u001b[0m\u001b[0;34m.\u001b[0m\u001b[0m_fetched\u001b[0m\u001b[0;34m:\u001b[0m\u001b[0;34m\u001b[0m\u001b[0;34m\u001b[0m\u001b[0m\n\u001b[0;32m---> 34\u001b[0;31m             \u001b[0mself\u001b[0m\u001b[0;34m.\u001b[0m\u001b[0m_fetch\u001b[0m\u001b[0;34m(\u001b[0m\u001b[0;34m)\u001b[0m\u001b[0;34m\u001b[0m\u001b[0;34m\u001b[0m\u001b[0m\n\u001b[0m\u001b[1;32m     35\u001b[0m             \u001b[0;32mreturn\u001b[0m \u001b[0mgetattr\u001b[0m\u001b[0;34m(\u001b[0m\u001b[0mself\u001b[0m\u001b[0;34m,\u001b[0m \u001b[0mattribute\u001b[0m\u001b[0;34m)\u001b[0m\u001b[0;34m\u001b[0m\u001b[0;34m\u001b[0m\u001b[0m\n\u001b[1;32m     36\u001b[0m         raise AttributeError(\n",
      "\u001b[0;32m/opt/anaconda3/lib/python3.7/site-packages/praw/models/reddit/submission.py\u001b[0m in \u001b[0;36m_fetch\u001b[0;34m(self)\u001b[0m\n\u001b[1;32m    615\u001b[0m \u001b[0;34m\u001b[0m\u001b[0m\n\u001b[1;32m    616\u001b[0m     \u001b[0;32mdef\u001b[0m \u001b[0m_fetch\u001b[0m\u001b[0;34m(\u001b[0m\u001b[0mself\u001b[0m\u001b[0;34m)\u001b[0m\u001b[0;34m:\u001b[0m\u001b[0;34m\u001b[0m\u001b[0;34m\u001b[0m\u001b[0m\n\u001b[0;32m--> 617\u001b[0;31m         \u001b[0mdata\u001b[0m \u001b[0;34m=\u001b[0m \u001b[0mself\u001b[0m\u001b[0;34m.\u001b[0m\u001b[0m_fetch_data\u001b[0m\u001b[0;34m(\u001b[0m\u001b[0;34m)\u001b[0m\u001b[0;34m\u001b[0m\u001b[0;34m\u001b[0m\u001b[0m\n\u001b[0m\u001b[1;32m    618\u001b[0m         \u001b[0msubmission_listing\u001b[0m\u001b[0;34m,\u001b[0m \u001b[0mcomment_listing\u001b[0m \u001b[0;34m=\u001b[0m \u001b[0mdata\u001b[0m\u001b[0;34m\u001b[0m\u001b[0;34m\u001b[0m\u001b[0m\n\u001b[1;32m    619\u001b[0m         \u001b[0mcomment_listing\u001b[0m \u001b[0;34m=\u001b[0m \u001b[0mListing\u001b[0m\u001b[0;34m(\u001b[0m\u001b[0mself\u001b[0m\u001b[0;34m.\u001b[0m\u001b[0m_reddit\u001b[0m\u001b[0;34m,\u001b[0m \u001b[0m_data\u001b[0m\u001b[0;34m=\u001b[0m\u001b[0mcomment_listing\u001b[0m\u001b[0;34m[\u001b[0m\u001b[0;34m\"data\"\u001b[0m\u001b[0;34m]\u001b[0m\u001b[0;34m)\u001b[0m\u001b[0;34m\u001b[0m\u001b[0;34m\u001b[0m\u001b[0m\n",
      "\u001b[0;32m/opt/anaconda3/lib/python3.7/site-packages/praw/models/reddit/submission.py\u001b[0m in \u001b[0;36m_fetch_data\u001b[0;34m(self)\u001b[0m\n\u001b[1;32m    612\u001b[0m         \u001b[0mname\u001b[0m\u001b[0;34m,\u001b[0m \u001b[0mfields\u001b[0m\u001b[0;34m,\u001b[0m \u001b[0mparams\u001b[0m \u001b[0;34m=\u001b[0m \u001b[0mself\u001b[0m\u001b[0;34m.\u001b[0m\u001b[0m_fetch_info\u001b[0m\u001b[0;34m(\u001b[0m\u001b[0;34m)\u001b[0m\u001b[0;34m\u001b[0m\u001b[0;34m\u001b[0m\u001b[0m\n\u001b[1;32m    613\u001b[0m         \u001b[0mpath\u001b[0m \u001b[0;34m=\u001b[0m \u001b[0mAPI_PATH\u001b[0m\u001b[0;34m[\u001b[0m\u001b[0mname\u001b[0m\u001b[0;34m]\u001b[0m\u001b[0;34m.\u001b[0m\u001b[0mformat\u001b[0m\u001b[0;34m(\u001b[0m\u001b[0;34m**\u001b[0m\u001b[0mfields\u001b[0m\u001b[0;34m)\u001b[0m\u001b[0;34m\u001b[0m\u001b[0;34m\u001b[0m\u001b[0m\n\u001b[0;32m--> 614\u001b[0;31m         \u001b[0;32mreturn\u001b[0m \u001b[0mself\u001b[0m\u001b[0;34m.\u001b[0m\u001b[0m_reddit\u001b[0m\u001b[0;34m.\u001b[0m\u001b[0mrequest\u001b[0m\u001b[0;34m(\u001b[0m\u001b[0;34m\"GET\"\u001b[0m\u001b[0;34m,\u001b[0m \u001b[0mpath\u001b[0m\u001b[0;34m,\u001b[0m \u001b[0mparams\u001b[0m\u001b[0;34m)\u001b[0m\u001b[0;34m\u001b[0m\u001b[0;34m\u001b[0m\u001b[0m\n\u001b[0m\u001b[1;32m    615\u001b[0m \u001b[0;34m\u001b[0m\u001b[0m\n\u001b[1;32m    616\u001b[0m     \u001b[0;32mdef\u001b[0m \u001b[0m_fetch\u001b[0m\u001b[0;34m(\u001b[0m\u001b[0mself\u001b[0m\u001b[0;34m)\u001b[0m\u001b[0;34m:\u001b[0m\u001b[0;34m\u001b[0m\u001b[0;34m\u001b[0m\u001b[0m\n",
      "\u001b[0;32m/opt/anaconda3/lib/python3.7/site-packages/praw/reddit.py\u001b[0m in \u001b[0;36mrequest\u001b[0;34m(self, method, path, params, data, files, json)\u001b[0m\n\u001b[1;32m    861\u001b[0m                 \u001b[0mparams\u001b[0m\u001b[0;34m=\u001b[0m\u001b[0mparams\u001b[0m\u001b[0;34m,\u001b[0m\u001b[0;34m\u001b[0m\u001b[0;34m\u001b[0m\u001b[0m\n\u001b[1;32m    862\u001b[0m                 \u001b[0mtimeout\u001b[0m\u001b[0;34m=\u001b[0m\u001b[0mself\u001b[0m\u001b[0;34m.\u001b[0m\u001b[0mconfig\u001b[0m\u001b[0;34m.\u001b[0m\u001b[0mtimeout\u001b[0m\u001b[0;34m,\u001b[0m\u001b[0;34m\u001b[0m\u001b[0;34m\u001b[0m\u001b[0m\n\u001b[0;32m--> 863\u001b[0;31m                 \u001b[0mjson\u001b[0m\u001b[0;34m=\u001b[0m\u001b[0mjson\u001b[0m\u001b[0;34m,\u001b[0m\u001b[0;34m\u001b[0m\u001b[0;34m\u001b[0m\u001b[0m\n\u001b[0m\u001b[1;32m    864\u001b[0m             )\n\u001b[1;32m    865\u001b[0m         \u001b[0;32mexcept\u001b[0m \u001b[0mBadRequest\u001b[0m \u001b[0;32mas\u001b[0m \u001b[0mexception\u001b[0m\u001b[0;34m:\u001b[0m\u001b[0;34m\u001b[0m\u001b[0;34m\u001b[0m\u001b[0m\n",
      "\u001b[0;32m/opt/anaconda3/lib/python3.7/site-packages/prawcore/sessions.py\u001b[0m in \u001b[0;36mrequest\u001b[0;34m(self, method, path, data, files, json, params, timeout)\u001b[0m\n\u001b[1;32m    335\u001b[0m             \u001b[0mparams\u001b[0m\u001b[0;34m=\u001b[0m\u001b[0mparams\u001b[0m\u001b[0;34m,\u001b[0m\u001b[0;34m\u001b[0m\u001b[0;34m\u001b[0m\u001b[0m\n\u001b[1;32m    336\u001b[0m             \u001b[0mtimeout\u001b[0m\u001b[0;34m=\u001b[0m\u001b[0mtimeout\u001b[0m\u001b[0;34m,\u001b[0m\u001b[0;34m\u001b[0m\u001b[0;34m\u001b[0m\u001b[0m\n\u001b[0;32m--> 337\u001b[0;31m             \u001b[0murl\u001b[0m\u001b[0;34m=\u001b[0m\u001b[0murl\u001b[0m\u001b[0;34m,\u001b[0m\u001b[0;34m\u001b[0m\u001b[0;34m\u001b[0m\u001b[0m\n\u001b[0m\u001b[1;32m    338\u001b[0m         )\n\u001b[1;32m    339\u001b[0m \u001b[0;34m\u001b[0m\u001b[0m\n",
      "\u001b[0;32m/opt/anaconda3/lib/python3.7/site-packages/prawcore/sessions.py\u001b[0m in \u001b[0;36m_request_with_retries\u001b[0;34m(self, data, files, json, method, params, timeout, url, retry_strategy_state)\u001b[0m\n\u001b[1;32m    234\u001b[0m             \u001b[0mretry_strategy_state\u001b[0m\u001b[0;34m,\u001b[0m\u001b[0;34m\u001b[0m\u001b[0;34m\u001b[0m\u001b[0m\n\u001b[1;32m    235\u001b[0m             \u001b[0mtimeout\u001b[0m\u001b[0;34m,\u001b[0m\u001b[0;34m\u001b[0m\u001b[0;34m\u001b[0m\u001b[0m\n\u001b[0;32m--> 236\u001b[0;31m             \u001b[0murl\u001b[0m\u001b[0;34m,\u001b[0m\u001b[0;34m\u001b[0m\u001b[0;34m\u001b[0m\u001b[0m\n\u001b[0m\u001b[1;32m    237\u001b[0m         )\n\u001b[1;32m    238\u001b[0m \u001b[0;34m\u001b[0m\u001b[0m\n",
      "\u001b[0;32m/opt/anaconda3/lib/python3.7/site-packages/prawcore/sessions.py\u001b[0m in \u001b[0;36m_make_request\u001b[0;34m(self, data, files, json, method, params, retry_strategy_state, timeout, url)\u001b[0m\n\u001b[1;32m    193\u001b[0m                 \u001b[0mjson\u001b[0m\u001b[0;34m=\u001b[0m\u001b[0mjson\u001b[0m\u001b[0;34m,\u001b[0m\u001b[0;34m\u001b[0m\u001b[0;34m\u001b[0m\u001b[0m\n\u001b[1;32m    194\u001b[0m                 \u001b[0mparams\u001b[0m\u001b[0;34m=\u001b[0m\u001b[0mparams\u001b[0m\u001b[0;34m,\u001b[0m\u001b[0;34m\u001b[0m\u001b[0;34m\u001b[0m\u001b[0m\n\u001b[0;32m--> 195\u001b[0;31m                 \u001b[0mtimeout\u001b[0m\u001b[0;34m=\u001b[0m\u001b[0mtimeout\u001b[0m\u001b[0;34m,\u001b[0m\u001b[0;34m\u001b[0m\u001b[0;34m\u001b[0m\u001b[0m\n\u001b[0m\u001b[1;32m    196\u001b[0m             )\n\u001b[1;32m    197\u001b[0m             log.debug(\n",
      "\u001b[0;32m/opt/anaconda3/lib/python3.7/site-packages/prawcore/rate_limit.py\u001b[0m in \u001b[0;36mcall\u001b[0;34m(self, request_function, set_header_callback, *args, **kwargs)\u001b[0m\n\u001b[1;32m     32\u001b[0m         \u001b[0mself\u001b[0m\u001b[0;34m.\u001b[0m\u001b[0mdelay\u001b[0m\u001b[0;34m(\u001b[0m\u001b[0;34m)\u001b[0m\u001b[0;34m\u001b[0m\u001b[0;34m\u001b[0m\u001b[0m\n\u001b[1;32m     33\u001b[0m         \u001b[0mkwargs\u001b[0m\u001b[0;34m[\u001b[0m\u001b[0;34m\"headers\"\u001b[0m\u001b[0;34m]\u001b[0m \u001b[0;34m=\u001b[0m \u001b[0mset_header_callback\u001b[0m\u001b[0;34m(\u001b[0m\u001b[0;34m)\u001b[0m\u001b[0;34m\u001b[0m\u001b[0;34m\u001b[0m\u001b[0m\n\u001b[0;32m---> 34\u001b[0;31m         \u001b[0mresponse\u001b[0m \u001b[0;34m=\u001b[0m \u001b[0mrequest_function\u001b[0m\u001b[0;34m(\u001b[0m\u001b[0;34m*\u001b[0m\u001b[0margs\u001b[0m\u001b[0;34m,\u001b[0m \u001b[0;34m**\u001b[0m\u001b[0mkwargs\u001b[0m\u001b[0;34m)\u001b[0m\u001b[0;34m\u001b[0m\u001b[0;34m\u001b[0m\u001b[0m\n\u001b[0m\u001b[1;32m     35\u001b[0m         \u001b[0mself\u001b[0m\u001b[0;34m.\u001b[0m\u001b[0mupdate\u001b[0m\u001b[0;34m(\u001b[0m\u001b[0mresponse\u001b[0m\u001b[0;34m.\u001b[0m\u001b[0mheaders\u001b[0m\u001b[0;34m)\u001b[0m\u001b[0;34m\u001b[0m\u001b[0;34m\u001b[0m\u001b[0m\n\u001b[1;32m     36\u001b[0m         \u001b[0;32mreturn\u001b[0m \u001b[0mresponse\u001b[0m\u001b[0;34m\u001b[0m\u001b[0;34m\u001b[0m\u001b[0m\n",
      "\u001b[0;32m/opt/anaconda3/lib/python3.7/site-packages/prawcore/requestor.py\u001b[0m in \u001b[0;36mrequest\u001b[0;34m(self, timeout, *args, **kwargs)\u001b[0m\n\u001b[1;32m     57\u001b[0m         \u001b[0;32mtry\u001b[0m\u001b[0;34m:\u001b[0m\u001b[0;34m\u001b[0m\u001b[0;34m\u001b[0m\u001b[0m\n\u001b[1;32m     58\u001b[0m             return self._http.request(\n\u001b[0;32m---> 59\u001b[0;31m                 \u001b[0;34m*\u001b[0m\u001b[0margs\u001b[0m\u001b[0;34m,\u001b[0m \u001b[0mtimeout\u001b[0m\u001b[0;34m=\u001b[0m\u001b[0mtimeout\u001b[0m \u001b[0;32mor\u001b[0m \u001b[0mself\u001b[0m\u001b[0;34m.\u001b[0m\u001b[0mtimeout\u001b[0m\u001b[0;34m,\u001b[0m \u001b[0;34m**\u001b[0m\u001b[0mkwargs\u001b[0m\u001b[0;34m\u001b[0m\u001b[0;34m\u001b[0m\u001b[0m\n\u001b[0m\u001b[1;32m     60\u001b[0m             )\n\u001b[1;32m     61\u001b[0m         \u001b[0;32mexcept\u001b[0m \u001b[0mException\u001b[0m \u001b[0;32mas\u001b[0m \u001b[0mexc\u001b[0m\u001b[0;34m:\u001b[0m\u001b[0;34m\u001b[0m\u001b[0;34m\u001b[0m\u001b[0m\n",
      "\u001b[0;32m/opt/anaconda3/lib/python3.7/site-packages/requests/sessions.py\u001b[0m in \u001b[0;36mrequest\u001b[0;34m(self, method, url, params, data, headers, cookies, files, auth, timeout, allow_redirects, proxies, hooks, stream, verify, cert, json)\u001b[0m\n\u001b[1;32m    540\u001b[0m         }\n\u001b[1;32m    541\u001b[0m         \u001b[0msend_kwargs\u001b[0m\u001b[0;34m.\u001b[0m\u001b[0mupdate\u001b[0m\u001b[0;34m(\u001b[0m\u001b[0msettings\u001b[0m\u001b[0;34m)\u001b[0m\u001b[0;34m\u001b[0m\u001b[0;34m\u001b[0m\u001b[0m\n\u001b[0;32m--> 542\u001b[0;31m         \u001b[0mresp\u001b[0m \u001b[0;34m=\u001b[0m \u001b[0mself\u001b[0m\u001b[0;34m.\u001b[0m\u001b[0msend\u001b[0m\u001b[0;34m(\u001b[0m\u001b[0mprep\u001b[0m\u001b[0;34m,\u001b[0m \u001b[0;34m**\u001b[0m\u001b[0msend_kwargs\u001b[0m\u001b[0;34m)\u001b[0m\u001b[0;34m\u001b[0m\u001b[0;34m\u001b[0m\u001b[0m\n\u001b[0m\u001b[1;32m    543\u001b[0m \u001b[0;34m\u001b[0m\u001b[0m\n\u001b[1;32m    544\u001b[0m         \u001b[0;32mreturn\u001b[0m \u001b[0mresp\u001b[0m\u001b[0;34m\u001b[0m\u001b[0;34m\u001b[0m\u001b[0m\n",
      "\u001b[0;32m/opt/anaconda3/lib/python3.7/site-packages/requests/sessions.py\u001b[0m in \u001b[0;36msend\u001b[0;34m(self, request, **kwargs)\u001b[0m\n\u001b[1;32m    653\u001b[0m \u001b[0;34m\u001b[0m\u001b[0m\n\u001b[1;32m    654\u001b[0m         \u001b[0;31m# Send the request\u001b[0m\u001b[0;34m\u001b[0m\u001b[0;34m\u001b[0m\u001b[0;34m\u001b[0m\u001b[0m\n\u001b[0;32m--> 655\u001b[0;31m         \u001b[0mr\u001b[0m \u001b[0;34m=\u001b[0m \u001b[0madapter\u001b[0m\u001b[0;34m.\u001b[0m\u001b[0msend\u001b[0m\u001b[0;34m(\u001b[0m\u001b[0mrequest\u001b[0m\u001b[0;34m,\u001b[0m \u001b[0;34m**\u001b[0m\u001b[0mkwargs\u001b[0m\u001b[0;34m)\u001b[0m\u001b[0;34m\u001b[0m\u001b[0;34m\u001b[0m\u001b[0m\n\u001b[0m\u001b[1;32m    656\u001b[0m \u001b[0;34m\u001b[0m\u001b[0m\n\u001b[1;32m    657\u001b[0m         \u001b[0;31m# Total elapsed time of the request (approximately)\u001b[0m\u001b[0;34m\u001b[0m\u001b[0;34m\u001b[0m\u001b[0;34m\u001b[0m\u001b[0m\n",
      "\u001b[0;32m/opt/anaconda3/lib/python3.7/site-packages/requests/adapters.py\u001b[0m in \u001b[0;36msend\u001b[0;34m(self, request, stream, timeout, verify, cert, proxies)\u001b[0m\n\u001b[1;32m    447\u001b[0m                     \u001b[0mdecode_content\u001b[0m\u001b[0;34m=\u001b[0m\u001b[0;32mFalse\u001b[0m\u001b[0;34m,\u001b[0m\u001b[0;34m\u001b[0m\u001b[0;34m\u001b[0m\u001b[0m\n\u001b[1;32m    448\u001b[0m                     \u001b[0mretries\u001b[0m\u001b[0;34m=\u001b[0m\u001b[0mself\u001b[0m\u001b[0;34m.\u001b[0m\u001b[0mmax_retries\u001b[0m\u001b[0;34m,\u001b[0m\u001b[0;34m\u001b[0m\u001b[0;34m\u001b[0m\u001b[0m\n\u001b[0;32m--> 449\u001b[0;31m                     \u001b[0mtimeout\u001b[0m\u001b[0;34m=\u001b[0m\u001b[0mtimeout\u001b[0m\u001b[0;34m\u001b[0m\u001b[0;34m\u001b[0m\u001b[0m\n\u001b[0m\u001b[1;32m    450\u001b[0m                 )\n\u001b[1;32m    451\u001b[0m \u001b[0;34m\u001b[0m\u001b[0m\n",
      "\u001b[0;32m/opt/anaconda3/lib/python3.7/site-packages/urllib3/connectionpool.py\u001b[0m in \u001b[0;36murlopen\u001b[0;34m(self, method, url, body, headers, retries, redirect, assert_same_host, timeout, pool_timeout, release_conn, chunked, body_pos, **response_kw)\u001b[0m\n\u001b[1;32m    704\u001b[0m                 \u001b[0mbody\u001b[0m\u001b[0;34m=\u001b[0m\u001b[0mbody\u001b[0m\u001b[0;34m,\u001b[0m\u001b[0;34m\u001b[0m\u001b[0;34m\u001b[0m\u001b[0m\n\u001b[1;32m    705\u001b[0m                 \u001b[0mheaders\u001b[0m\u001b[0;34m=\u001b[0m\u001b[0mheaders\u001b[0m\u001b[0;34m,\u001b[0m\u001b[0;34m\u001b[0m\u001b[0;34m\u001b[0m\u001b[0m\n\u001b[0;32m--> 706\u001b[0;31m                 \u001b[0mchunked\u001b[0m\u001b[0;34m=\u001b[0m\u001b[0mchunked\u001b[0m\u001b[0;34m,\u001b[0m\u001b[0;34m\u001b[0m\u001b[0;34m\u001b[0m\u001b[0m\n\u001b[0m\u001b[1;32m    707\u001b[0m             )\n\u001b[1;32m    708\u001b[0m \u001b[0;34m\u001b[0m\u001b[0m\n",
      "\u001b[0;32m/opt/anaconda3/lib/python3.7/site-packages/urllib3/connectionpool.py\u001b[0m in \u001b[0;36m_make_request\u001b[0;34m(self, conn, method, url, timeout, chunked, **httplib_request_kw)\u001b[0m\n\u001b[1;32m    443\u001b[0m                     \u001b[0;31m# Python 3 (including for exceptions like SystemExit).\u001b[0m\u001b[0;34m\u001b[0m\u001b[0;34m\u001b[0m\u001b[0;34m\u001b[0m\u001b[0m\n\u001b[1;32m    444\u001b[0m                     \u001b[0;31m# Otherwise it looks like a bug in the code.\u001b[0m\u001b[0;34m\u001b[0m\u001b[0;34m\u001b[0m\u001b[0;34m\u001b[0m\u001b[0m\n\u001b[0;32m--> 445\u001b[0;31m                     \u001b[0msix\u001b[0m\u001b[0;34m.\u001b[0m\u001b[0mraise_from\u001b[0m\u001b[0;34m(\u001b[0m\u001b[0me\u001b[0m\u001b[0;34m,\u001b[0m \u001b[0;32mNone\u001b[0m\u001b[0;34m)\u001b[0m\u001b[0;34m\u001b[0m\u001b[0;34m\u001b[0m\u001b[0m\n\u001b[0m\u001b[1;32m    446\u001b[0m         \u001b[0;32mexcept\u001b[0m \u001b[0;34m(\u001b[0m\u001b[0mSocketTimeout\u001b[0m\u001b[0;34m,\u001b[0m \u001b[0mBaseSSLError\u001b[0m\u001b[0;34m,\u001b[0m \u001b[0mSocketError\u001b[0m\u001b[0;34m)\u001b[0m \u001b[0;32mas\u001b[0m \u001b[0me\u001b[0m\u001b[0;34m:\u001b[0m\u001b[0;34m\u001b[0m\u001b[0;34m\u001b[0m\u001b[0m\n\u001b[1;32m    447\u001b[0m             \u001b[0mself\u001b[0m\u001b[0;34m.\u001b[0m\u001b[0m_raise_timeout\u001b[0m\u001b[0;34m(\u001b[0m\u001b[0merr\u001b[0m\u001b[0;34m=\u001b[0m\u001b[0me\u001b[0m\u001b[0;34m,\u001b[0m \u001b[0murl\u001b[0m\u001b[0;34m=\u001b[0m\u001b[0murl\u001b[0m\u001b[0;34m,\u001b[0m \u001b[0mtimeout_value\u001b[0m\u001b[0;34m=\u001b[0m\u001b[0mread_timeout\u001b[0m\u001b[0;34m)\u001b[0m\u001b[0;34m\u001b[0m\u001b[0;34m\u001b[0m\u001b[0m\n",
      "\u001b[0;32m/opt/anaconda3/lib/python3.7/site-packages/urllib3/packages/six.py\u001b[0m in \u001b[0;36mraise_from\u001b[0;34m(value, from_value)\u001b[0m\n",
      "\u001b[0;32m/opt/anaconda3/lib/python3.7/site-packages/urllib3/connectionpool.py\u001b[0m in \u001b[0;36m_make_request\u001b[0;34m(self, conn, method, url, timeout, chunked, **httplib_request_kw)\u001b[0m\n\u001b[1;32m    438\u001b[0m                 \u001b[0;31m# Python 3\u001b[0m\u001b[0;34m\u001b[0m\u001b[0;34m\u001b[0m\u001b[0;34m\u001b[0m\u001b[0m\n\u001b[1;32m    439\u001b[0m                 \u001b[0;32mtry\u001b[0m\u001b[0;34m:\u001b[0m\u001b[0;34m\u001b[0m\u001b[0;34m\u001b[0m\u001b[0m\n\u001b[0;32m--> 440\u001b[0;31m                     \u001b[0mhttplib_response\u001b[0m \u001b[0;34m=\u001b[0m \u001b[0mconn\u001b[0m\u001b[0;34m.\u001b[0m\u001b[0mgetresponse\u001b[0m\u001b[0;34m(\u001b[0m\u001b[0;34m)\u001b[0m\u001b[0;34m\u001b[0m\u001b[0;34m\u001b[0m\u001b[0m\n\u001b[0m\u001b[1;32m    441\u001b[0m                 \u001b[0;32mexcept\u001b[0m \u001b[0mBaseException\u001b[0m \u001b[0;32mas\u001b[0m \u001b[0me\u001b[0m\u001b[0;34m:\u001b[0m\u001b[0;34m\u001b[0m\u001b[0;34m\u001b[0m\u001b[0m\n\u001b[1;32m    442\u001b[0m                     \u001b[0;31m# Remove the TypeError from the exception chain in\u001b[0m\u001b[0;34m\u001b[0m\u001b[0;34m\u001b[0m\u001b[0;34m\u001b[0m\u001b[0m\n",
      "\u001b[0;32m/opt/anaconda3/lib/python3.7/http/client.py\u001b[0m in \u001b[0;36mgetresponse\u001b[0;34m(self)\u001b[0m\n\u001b[1;32m   1371\u001b[0m         \u001b[0;32mtry\u001b[0m\u001b[0;34m:\u001b[0m\u001b[0;34m\u001b[0m\u001b[0;34m\u001b[0m\u001b[0m\n\u001b[1;32m   1372\u001b[0m             \u001b[0;32mtry\u001b[0m\u001b[0;34m:\u001b[0m\u001b[0;34m\u001b[0m\u001b[0;34m\u001b[0m\u001b[0m\n\u001b[0;32m-> 1373\u001b[0;31m                 \u001b[0mresponse\u001b[0m\u001b[0;34m.\u001b[0m\u001b[0mbegin\u001b[0m\u001b[0;34m(\u001b[0m\u001b[0;34m)\u001b[0m\u001b[0;34m\u001b[0m\u001b[0;34m\u001b[0m\u001b[0m\n\u001b[0m\u001b[1;32m   1374\u001b[0m             \u001b[0;32mexcept\u001b[0m \u001b[0mConnectionError\u001b[0m\u001b[0;34m:\u001b[0m\u001b[0;34m\u001b[0m\u001b[0;34m\u001b[0m\u001b[0m\n\u001b[1;32m   1375\u001b[0m                 \u001b[0mself\u001b[0m\u001b[0;34m.\u001b[0m\u001b[0mclose\u001b[0m\u001b[0;34m(\u001b[0m\u001b[0;34m)\u001b[0m\u001b[0;34m\u001b[0m\u001b[0;34m\u001b[0m\u001b[0m\n",
      "\u001b[0;32m/opt/anaconda3/lib/python3.7/http/client.py\u001b[0m in \u001b[0;36mbegin\u001b[0;34m(self)\u001b[0m\n\u001b[1;32m    317\u001b[0m         \u001b[0;31m# read until we get a non-100 response\u001b[0m\u001b[0;34m\u001b[0m\u001b[0;34m\u001b[0m\u001b[0;34m\u001b[0m\u001b[0m\n\u001b[1;32m    318\u001b[0m         \u001b[0;32mwhile\u001b[0m \u001b[0;32mTrue\u001b[0m\u001b[0;34m:\u001b[0m\u001b[0;34m\u001b[0m\u001b[0;34m\u001b[0m\u001b[0m\n\u001b[0;32m--> 319\u001b[0;31m             \u001b[0mversion\u001b[0m\u001b[0;34m,\u001b[0m \u001b[0mstatus\u001b[0m\u001b[0;34m,\u001b[0m \u001b[0mreason\u001b[0m \u001b[0;34m=\u001b[0m \u001b[0mself\u001b[0m\u001b[0;34m.\u001b[0m\u001b[0m_read_status\u001b[0m\u001b[0;34m(\u001b[0m\u001b[0;34m)\u001b[0m\u001b[0;34m\u001b[0m\u001b[0;34m\u001b[0m\u001b[0m\n\u001b[0m\u001b[1;32m    320\u001b[0m             \u001b[0;32mif\u001b[0m \u001b[0mstatus\u001b[0m \u001b[0;34m!=\u001b[0m \u001b[0mCONTINUE\u001b[0m\u001b[0;34m:\u001b[0m\u001b[0;34m\u001b[0m\u001b[0;34m\u001b[0m\u001b[0m\n\u001b[1;32m    321\u001b[0m                 \u001b[0;32mbreak\u001b[0m\u001b[0;34m\u001b[0m\u001b[0;34m\u001b[0m\u001b[0m\n",
      "\u001b[0;32m/opt/anaconda3/lib/python3.7/http/client.py\u001b[0m in \u001b[0;36m_read_status\u001b[0;34m(self)\u001b[0m\n\u001b[1;32m    278\u001b[0m \u001b[0;34m\u001b[0m\u001b[0m\n\u001b[1;32m    279\u001b[0m     \u001b[0;32mdef\u001b[0m \u001b[0m_read_status\u001b[0m\u001b[0;34m(\u001b[0m\u001b[0mself\u001b[0m\u001b[0;34m)\u001b[0m\u001b[0;34m:\u001b[0m\u001b[0;34m\u001b[0m\u001b[0;34m\u001b[0m\u001b[0m\n\u001b[0;32m--> 280\u001b[0;31m         \u001b[0mline\u001b[0m \u001b[0;34m=\u001b[0m \u001b[0mstr\u001b[0m\u001b[0;34m(\u001b[0m\u001b[0mself\u001b[0m\u001b[0;34m.\u001b[0m\u001b[0mfp\u001b[0m\u001b[0;34m.\u001b[0m\u001b[0mreadline\u001b[0m\u001b[0;34m(\u001b[0m\u001b[0m_MAXLINE\u001b[0m \u001b[0;34m+\u001b[0m \u001b[0;36m1\u001b[0m\u001b[0;34m)\u001b[0m\u001b[0;34m,\u001b[0m \u001b[0;34m\"iso-8859-1\"\u001b[0m\u001b[0;34m)\u001b[0m\u001b[0;34m\u001b[0m\u001b[0;34m\u001b[0m\u001b[0m\n\u001b[0m\u001b[1;32m    281\u001b[0m         \u001b[0;32mif\u001b[0m \u001b[0mlen\u001b[0m\u001b[0;34m(\u001b[0m\u001b[0mline\u001b[0m\u001b[0;34m)\u001b[0m \u001b[0;34m>\u001b[0m \u001b[0m_MAXLINE\u001b[0m\u001b[0;34m:\u001b[0m\u001b[0;34m\u001b[0m\u001b[0;34m\u001b[0m\u001b[0m\n\u001b[1;32m    282\u001b[0m             \u001b[0;32mraise\u001b[0m \u001b[0mLineTooLong\u001b[0m\u001b[0;34m(\u001b[0m\u001b[0;34m\"status line\"\u001b[0m\u001b[0;34m)\u001b[0m\u001b[0;34m\u001b[0m\u001b[0;34m\u001b[0m\u001b[0m\n",
      "\u001b[0;32m/opt/anaconda3/lib/python3.7/socket.py\u001b[0m in \u001b[0;36mreadinto\u001b[0;34m(self, b)\u001b[0m\n\u001b[1;32m    587\u001b[0m         \u001b[0;32mwhile\u001b[0m \u001b[0;32mTrue\u001b[0m\u001b[0;34m:\u001b[0m\u001b[0;34m\u001b[0m\u001b[0;34m\u001b[0m\u001b[0m\n\u001b[1;32m    588\u001b[0m             \u001b[0;32mtry\u001b[0m\u001b[0;34m:\u001b[0m\u001b[0;34m\u001b[0m\u001b[0;34m\u001b[0m\u001b[0m\n\u001b[0;32m--> 589\u001b[0;31m                 \u001b[0;32mreturn\u001b[0m \u001b[0mself\u001b[0m\u001b[0;34m.\u001b[0m\u001b[0m_sock\u001b[0m\u001b[0;34m.\u001b[0m\u001b[0mrecv_into\u001b[0m\u001b[0;34m(\u001b[0m\u001b[0mb\u001b[0m\u001b[0;34m)\u001b[0m\u001b[0;34m\u001b[0m\u001b[0;34m\u001b[0m\u001b[0m\n\u001b[0m\u001b[1;32m    590\u001b[0m             \u001b[0;32mexcept\u001b[0m \u001b[0mtimeout\u001b[0m\u001b[0;34m:\u001b[0m\u001b[0;34m\u001b[0m\u001b[0;34m\u001b[0m\u001b[0m\n\u001b[1;32m    591\u001b[0m                 \u001b[0mself\u001b[0m\u001b[0;34m.\u001b[0m\u001b[0m_timeout_occurred\u001b[0m \u001b[0;34m=\u001b[0m \u001b[0;32mTrue\u001b[0m\u001b[0;34m\u001b[0m\u001b[0;34m\u001b[0m\u001b[0m\n",
      "\u001b[0;32m/opt/anaconda3/lib/python3.7/ssl.py\u001b[0m in \u001b[0;36mrecv_into\u001b[0;34m(self, buffer, nbytes, flags)\u001b[0m\n\u001b[1;32m   1069\u001b[0m                   \u001b[0;34m\"non-zero flags not allowed in calls to recv_into() on %s\"\u001b[0m \u001b[0;34m%\u001b[0m\u001b[0;34m\u001b[0m\u001b[0;34m\u001b[0m\u001b[0m\n\u001b[1;32m   1070\u001b[0m                   self.__class__)\n\u001b[0;32m-> 1071\u001b[0;31m             \u001b[0;32mreturn\u001b[0m \u001b[0mself\u001b[0m\u001b[0;34m.\u001b[0m\u001b[0mread\u001b[0m\u001b[0;34m(\u001b[0m\u001b[0mnbytes\u001b[0m\u001b[0;34m,\u001b[0m \u001b[0mbuffer\u001b[0m\u001b[0;34m)\u001b[0m\u001b[0;34m\u001b[0m\u001b[0;34m\u001b[0m\u001b[0m\n\u001b[0m\u001b[1;32m   1072\u001b[0m         \u001b[0;32melse\u001b[0m\u001b[0;34m:\u001b[0m\u001b[0;34m\u001b[0m\u001b[0;34m\u001b[0m\u001b[0m\n\u001b[1;32m   1073\u001b[0m             \u001b[0;32mreturn\u001b[0m \u001b[0msuper\u001b[0m\u001b[0;34m(\u001b[0m\u001b[0;34m)\u001b[0m\u001b[0;34m.\u001b[0m\u001b[0mrecv_into\u001b[0m\u001b[0;34m(\u001b[0m\u001b[0mbuffer\u001b[0m\u001b[0;34m,\u001b[0m \u001b[0mnbytes\u001b[0m\u001b[0;34m,\u001b[0m \u001b[0mflags\u001b[0m\u001b[0;34m)\u001b[0m\u001b[0;34m\u001b[0m\u001b[0;34m\u001b[0m\u001b[0m\n",
      "\u001b[0;32m/opt/anaconda3/lib/python3.7/ssl.py\u001b[0m in \u001b[0;36mread\u001b[0;34m(self, len, buffer)\u001b[0m\n\u001b[1;32m    927\u001b[0m         \u001b[0;32mtry\u001b[0m\u001b[0;34m:\u001b[0m\u001b[0;34m\u001b[0m\u001b[0;34m\u001b[0m\u001b[0m\n\u001b[1;32m    928\u001b[0m             \u001b[0;32mif\u001b[0m \u001b[0mbuffer\u001b[0m \u001b[0;32mis\u001b[0m \u001b[0;32mnot\u001b[0m \u001b[0;32mNone\u001b[0m\u001b[0;34m:\u001b[0m\u001b[0;34m\u001b[0m\u001b[0;34m\u001b[0m\u001b[0m\n\u001b[0;32m--> 929\u001b[0;31m                 \u001b[0;32mreturn\u001b[0m \u001b[0mself\u001b[0m\u001b[0;34m.\u001b[0m\u001b[0m_sslobj\u001b[0m\u001b[0;34m.\u001b[0m\u001b[0mread\u001b[0m\u001b[0;34m(\u001b[0m\u001b[0mlen\u001b[0m\u001b[0;34m,\u001b[0m \u001b[0mbuffer\u001b[0m\u001b[0;34m)\u001b[0m\u001b[0;34m\u001b[0m\u001b[0;34m\u001b[0m\u001b[0m\n\u001b[0m\u001b[1;32m    930\u001b[0m             \u001b[0;32melse\u001b[0m\u001b[0;34m:\u001b[0m\u001b[0;34m\u001b[0m\u001b[0;34m\u001b[0m\u001b[0m\n\u001b[1;32m    931\u001b[0m                 \u001b[0;32mreturn\u001b[0m \u001b[0mself\u001b[0m\u001b[0;34m.\u001b[0m\u001b[0m_sslobj\u001b[0m\u001b[0;34m.\u001b[0m\u001b[0mread\u001b[0m\u001b[0;34m(\u001b[0m\u001b[0mlen\u001b[0m\u001b[0;34m)\u001b[0m\u001b[0;34m\u001b[0m\u001b[0;34m\u001b[0m\u001b[0m\n",
      "\u001b[0;31mKeyboardInterrupt\u001b[0m: "
     ]
    }
   ],
   "source": [
    "# Create a DIRECTED graph \n",
    "g = nx.DiGraph()\n",
    "subreddit = popular_crypto_subs\n",
    "breadthCommentCount = 10\n",
    "\n",
    "targetSub = reddit.subreddit(subreddit)\n",
    "submissions = targetSub.top(limit=1000, time_filter='month') #may stop after a significant num of its\n",
    "\n",
    "i=0\n",
    "\n",
    "for post in submissions:\n",
    "    if i%50 == 0:\n",
    "        print(i)\n",
    "    #print (post.author, \"-\", post.title)\n",
    "    if not (post.author == None):\n",
    "        # Check if we have the node already in our graph\n",
    "        if (post.author not in g.nodes):\n",
    "            g.add_node(post.author)\n",
    "        post.comment_limit = breadthCommentCount\n",
    "        # Get the top few comments\n",
    "        for comment in post.comments.list():\n",
    "            # Skip MoreComment objects, which don't have authors\n",
    "            if isinstance(comment, praw.models.MoreComments):\n",
    "                continue\n",
    "            # Recursively process this reply\n",
    "            recursive_node_adder(g, comment, post.author)\n",
    "    i+=1"
   ]
  },
  {
   "cell_type": "code",
   "execution_count": null,
   "id": "1b131599",
   "metadata": {},
   "outputs": [],
   "source": [
    "labels = list(g.nodes())\n",
    "#convert Subreddit instances into their display names for convenience\n",
    "nodes_new = list(g.nodes()) #initialise\n",
    "for index, node in enumerate(labels):\n",
    "    if isinstance(node, str) == False:\n",
    "        nodes_new[index] = node.name\n",
    "        \n",
    "mapping = dict(zip(g.nodes(), nodes_new))        \n",
    "g = nx.relabel_nodes(g, mapping)\n",
    "\n",
    "#json storage... could be useful?\n",
    "from networkx.readwrite import json_graph \n",
    "data = json_graph.node_link_data(g)\n",
    "H = json_graph.node_link_graph(data, directed=True)"
   ]
  },
  {
   "cell_type": "code",
   "execution_count": null,
   "id": "d879ac16",
   "metadata": {},
   "outputs": [],
   "source": [
    "#save the graph\n",
    "nx.write_gml(g, \"/Users/kc/Documents/StatCompVis/CryptoProject/Optimal-Cryptocurrency-Trading-Strategies-Step2/Reddit_Analysis/graph_for_backtesting.gml\")"
   ]
  },
  {
   "cell_type": "code",
   "execution_count": null,
   "id": "2f7d6f24",
   "metadata": {},
   "outputs": [],
   "source": [
    "#export node lists\n",
    "nodes_list = list(g.nodes())\n",
    "with open('g_nodes.txt', 'w') as filehandle:\n",
    "    for node in nodes_list:\n",
    "        filehandle.write('%s\\n' % node)"
   ]
  },
  {
   "cell_type": "markdown",
   "id": "a7a3fd6f",
   "metadata": {},
   "source": [
    "Okay, so now we can look at the graph and its properties (might be easier in R for plotting/interactivity etc purposes), see R code for this analysis. "
   ]
  },
  {
   "cell_type": "markdown",
   "id": "cea68b65",
   "metadata": {},
   "source": [
    "Having done that analysis, one finds that the most influential authors are as follows, (given a certain rationale: will update with this rationale later on)."
   ]
  },
  {
   "cell_type": "code",
   "execution_count": 11,
   "id": "5188931c",
   "metadata": {},
   "outputs": [],
   "source": [
    "most_influential_authors = open(\"most_influential_authors\", \"r\").read()\n",
    "most_influential_authors = most_influential_authors.split()"
   ]
  },
  {
   "cell_type": "code",
   "execution_count": 12,
   "id": "65046647",
   "metadata": {},
   "outputs": [
    {
     "data": {
      "text/plain": [
       "['naji102',\n",
       " 'Crypto_Gaming_',\n",
       " 'simplelifestyle',\n",
       " 'adamix244',\n",
       " 'Suthekingg',\n",
       " 'InevitableComplex895',\n",
       " 'roymustang261',\n",
       " 'CoinCorner_Sam',\n",
       " 'AbsolutBadLad',\n",
       " 'Imaginary-Adagio2231']"
      ]
     },
     "execution_count": 12,
     "metadata": {},
     "output_type": "execute_result"
    }
   ],
   "source": [
    "most_influential_authors"
   ]
  },
  {
   "cell_type": "markdown",
   "id": "e864924d",
   "metadata": {},
   "source": [
    "You'll see from the bar charts produced in R and found on the github that many of these names perhaps aren't surprising. However, the order might give you some pause, while not toally shocking. You can see that the detectors of influence contain a wide variety of measures so that one can distinguish these redditors from one another.  "
   ]
  },
  {
   "cell_type": "code",
   "execution_count": 4,
   "id": "1c29f94c",
   "metadata": {},
   "outputs": [],
   "source": [
    "def get_user_posts(user, period, limit):\n",
    "    redditor = reddit.redditor(user)\n",
    "    redditor_subs = redditor.submissions.top(period, limit=limit) #get top (limit) submissions from user over the last period \n",
    "    posts_info = []\n",
    "    \n",
    "    for subm in redditor_subs:\n",
    "        \n",
    "        #extract submission information from user\n",
    "        subred_info = []\n",
    "        subred_info.append(subm.id)  \n",
    "        subred_info.append(str(subm.author)) \n",
    "        subred_info.append(subm.score)  \n",
    "        subred_info.append(subm.upvote_ratio)\n",
    "        subred_info.append(subm.num_comments)\n",
    "        subred_info.append(subm.subreddit)\n",
    "        subred_info.append(subm.created_utc)\n",
    "        posts_info.append(subred_info)\n",
    "        \n",
    "    \n",
    "    sorted_info = sorted(posts_info, key=lambda x: x[1], reverse = True)\n",
    "    posts_df = pd.DataFrame(sorted_info, columns = ['id','author', 'score','upvote_ratio',\\\n",
    "                                                    'num_comments', 'subreddit', \"created\"])\n",
    "    return posts_df   \n"
   ]
  },
  {
   "cell_type": "code",
   "execution_count": 5,
   "id": "b2ed4346",
   "metadata": {},
   "outputs": [],
   "source": [
    "df_naji102 = get_user_posts('naji102', 'year', 250)"
   ]
  },
  {
   "cell_type": "code",
   "execution_count": 6,
   "id": "96c37d74",
   "metadata": {},
   "outputs": [
    {
     "data": {
      "text/html": [
       "<div>\n",
       "<style scoped>\n",
       "    .dataframe tbody tr th:only-of-type {\n",
       "        vertical-align: middle;\n",
       "    }\n",
       "\n",
       "    .dataframe tbody tr th {\n",
       "        vertical-align: top;\n",
       "    }\n",
       "\n",
       "    .dataframe thead th {\n",
       "        text-align: right;\n",
       "    }\n",
       "</style>\n",
       "<table border=\"1\" class=\"dataframe\">\n",
       "  <thead>\n",
       "    <tr style=\"text-align: right;\">\n",
       "      <th></th>\n",
       "      <th>id</th>\n",
       "      <th>author</th>\n",
       "      <th>score</th>\n",
       "      <th>upvote_ratio</th>\n",
       "      <th>num_comments</th>\n",
       "      <th>subreddit</th>\n",
       "      <th>created</th>\n",
       "    </tr>\n",
       "  </thead>\n",
       "  <tbody>\n",
       "    <tr>\n",
       "      <th>0</th>\n",
       "      <td>qqvj8z</td>\n",
       "      <td>naji102</td>\n",
       "      <td>5039</td>\n",
       "      <td>0.92</td>\n",
       "      <td>1010</td>\n",
       "      <td>CryptoCurrency</td>\n",
       "      <td>1.636554e+09</td>\n",
       "    </tr>\n",
       "    <tr>\n",
       "      <th>1</th>\n",
       "      <td>kdrb6r</td>\n",
       "      <td>naji102</td>\n",
       "      <td>2010</td>\n",
       "      <td>0.96</td>\n",
       "      <td>150</td>\n",
       "      <td>apexlegends</td>\n",
       "      <td>1.608057e+09</td>\n",
       "    </tr>\n",
       "    <tr>\n",
       "      <th>2</th>\n",
       "      <td>qh8zea</td>\n",
       "      <td>naji102</td>\n",
       "      <td>1587</td>\n",
       "      <td>0.97</td>\n",
       "      <td>414</td>\n",
       "      <td>ethtrader</td>\n",
       "      <td>1.635376e+09</td>\n",
       "    </tr>\n",
       "    <tr>\n",
       "      <th>3</th>\n",
       "      <td>q6zqpf</td>\n",
       "      <td>naji102</td>\n",
       "      <td>1401</td>\n",
       "      <td>0.98</td>\n",
       "      <td>224</td>\n",
       "      <td>ethtrader</td>\n",
       "      <td>1.634086e+09</td>\n",
       "    </tr>\n",
       "    <tr>\n",
       "      <th>4</th>\n",
       "      <td>qpuuq1</td>\n",
       "      <td>naji102</td>\n",
       "      <td>1264</td>\n",
       "      <td>0.97</td>\n",
       "      <td>222</td>\n",
       "      <td>ethtrader</td>\n",
       "      <td>1.636429e+09</td>\n",
       "    </tr>\n",
       "  </tbody>\n",
       "</table>\n",
       "</div>"
      ],
      "text/plain": [
       "       id   author  score  upvote_ratio  num_comments       subreddit  \\\n",
       "0  qqvj8z  naji102   5039          0.92          1010  CryptoCurrency   \n",
       "1  kdrb6r  naji102   2010          0.96           150     apexlegends   \n",
       "2  qh8zea  naji102   1587          0.97           414       ethtrader   \n",
       "3  q6zqpf  naji102   1401          0.98           224       ethtrader   \n",
       "4  qpuuq1  naji102   1264          0.97           222       ethtrader   \n",
       "\n",
       "        created  \n",
       "0  1.636554e+09  \n",
       "1  1.608057e+09  \n",
       "2  1.635376e+09  \n",
       "3  1.634086e+09  \n",
       "4  1.636429e+09  "
      ]
     },
     "execution_count": 6,
     "metadata": {},
     "output_type": "execute_result"
    }
   ],
   "source": [
    "df_naji102.head()"
   ]
  },
  {
   "cell_type": "code",
   "execution_count": 7,
   "id": "87efb508",
   "metadata": {},
   "outputs": [
    {
     "data": {
      "text/plain": [
       "(126, 7)"
      ]
     },
     "execution_count": 7,
     "metadata": {},
     "output_type": "execute_result"
    }
   ],
   "source": [
    "df_naji102.shape"
   ]
  },
  {
   "cell_type": "code",
   "execution_count": 8,
   "id": "45391ecb",
   "metadata": {},
   "outputs": [
    {
     "data": {
      "text/plain": [
       "Text(0, 0.5, 'Number of posts')"
      ]
     },
     "execution_count": 8,
     "metadata": {},
     "output_type": "execute_result"
    },
    {
     "data": {
      "image/png": "[encoded data removed]",
      "text/plain": [
       "<Figure size 720x360 with 1 Axes>"
      ]
     },
     "metadata": {
      "needs_background": "light"
     },
     "output_type": "display_data"
    }
   ],
   "source": [
    "plt.figure(figsize=(10, 5))\n",
    "ax = df_naji102['subreddit'].value_counts().plot(kind='bar',\\\n",
    "                                                title='Number of posts each author makes in various subreddits')\n",
    "ax.set_xlabel(\"Subreddit\")\n",
    "ax.set_ylabel(\"Number of posts\")"
   ]
  },
  {
   "cell_type": "markdown",
   "id": "36b923b3",
   "metadata": {},
   "source": [
    "So for this guy, it perhaps makes sense to focus on ethereum prices over the past year in analysing the effect of contributions made by naji102. "
   ]
  },
  {
   "cell_type": "code",
   "execution_count": 9,
   "id": "713a505d",
   "metadata": {},
   "outputs": [],
   "source": [
    "from datar.all import f, mutate, tibble, head, tail, arrange\n"
   ]
  },
  {
   "cell_type": "code",
   "execution_count": 10,
   "id": "f0791670",
   "metadata": {},
   "outputs": [],
   "source": [
    "df_naji102 = tibble(df_naji102)\n",
    "df_naji102_crypto = df_naji102[(df_naji102['subreddit']==\"CryptoCurrency\") |\\\n",
    "                               (df_naji102['subreddit']==\"ethtrader\")]"
   ]
  },
  {
   "cell_type": "code",
   "execution_count": 11,
   "id": "43184224",
   "metadata": {},
   "outputs": [
    {
     "data": {
      "text/html": [
       "<table border=\"1\" class=\"dataframe\">\n",
       "  <thead>\n",
       "    <tr style=\"text-align: right;\">\n",
       "      <th></th>\n",
       "      <th>id</th>\n",
       "      <th>author</th>\n",
       "      <th>score</th>\n",
       "      <th>upvote_ratio</th>\n",
       "      <th>num_comments</th>\n",
       "      <th>subreddit</th>\n",
       "      <th>created</th>\n",
       "    </tr>\n",
       "  </thead>\n",
       "  <tbody>\n",
       "    <tr>\n",
       "      <th style=\"font-style: italic;\" ></th>\n",
       "      <td style=\"font-style: italic;\" >&lt;object&gt;</td>\n",
       "      <td style=\"font-style: italic;\" >&lt;object&gt;</td>\n",
       "      <td style=\"font-style: italic;\" >&lt;int64&gt;</td>\n",
       "      <td style=\"font-style: italic;\" >&lt;float64&gt;</td>\n",
       "      <td style=\"font-style: italic;\" >&lt;int64&gt;</td>\n",
       "      <td style=\"font-style: italic;\" >&lt;object&gt;</td>\n",
       "      <td style=\"font-style: italic;\" >&lt;float64&gt;</td>\n",
       "    </tr>\n",
       "    <tr>\n",
       "      <th>0</th>\n",
       "      <td>qqvj8z</td>\n",
       "      <td>naji102</td>\n",
       "      <td>5039</td>\n",
       "      <td>0.92</td>\n",
       "      <td>1010</td>\n",
       "      <td>CryptoCurrency</td>\n",
       "      <td>1.636554e+09</td>\n",
       "    </tr>\n",
       "    <tr>\n",
       "      <th>2</th>\n",
       "      <td>qh8zea</td>\n",
       "      <td>naji102</td>\n",
       "      <td>1587</td>\n",
       "      <td>0.97</td>\n",
       "      <td>414</td>\n",
       "      <td>ethtrader</td>\n",
       "      <td>1.635376e+09</td>\n",
       "    </tr>\n",
       "    <tr>\n",
       "      <th>3</th>\n",
       "      <td>q6zqpf</td>\n",
       "      <td>naji102</td>\n",
       "      <td>1401</td>\n",
       "      <td>0.98</td>\n",
       "      <td>224</td>\n",
       "      <td>ethtrader</td>\n",
       "      <td>1.634086e+09</td>\n",
       "    </tr>\n",
       "    <tr>\n",
       "      <th>4</th>\n",
       "      <td>qpuuq1</td>\n",
       "      <td>naji102</td>\n",
       "      <td>1264</td>\n",
       "      <td>0.97</td>\n",
       "      <td>222</td>\n",
       "      <td>ethtrader</td>\n",
       "      <td>1.636429e+09</td>\n",
       "    </tr>\n",
       "    <tr>\n",
       "      <th>5</th>\n",
       "      <td>pskkjj</td>\n",
       "      <td>naji102</td>\n",
       "      <td>1232</td>\n",
       "      <td>0.96</td>\n",
       "      <td>229</td>\n",
       "      <td>ethtrader</td>\n",
       "      <td>1.632237e+09</td>\n",
       "    </tr>\n",
       "    <tr>\n",
       "      <th>7</th>\n",
       "      <td>pp9w09</td>\n",
       "      <td>naji102</td>\n",
       "      <td>831</td>\n",
       "      <td>0.86</td>\n",
       "      <td>475</td>\n",
       "      <td>CryptoCurrency</td>\n",
       "      <td>1.631784e+09</td>\n",
       "    </tr>\n",
       "  </tbody>\n",
       "</table>"
      ],
      "text/plain": [
       "        id   author   score  upvote_ratio  num_comments       subreddit  \\\n",
       "  <object> <object> <int64>     <float64>       <int64>        <object>   \n",
       "0   qqvj8z  naji102    5039          0.92          1010  CryptoCurrency   \n",
       "2   qh8zea  naji102    1587          0.97           414       ethtrader   \n",
       "3   q6zqpf  naji102    1401          0.98           224       ethtrader   \n",
       "4   qpuuq1  naji102    1264          0.97           222       ethtrader   \n",
       "5   pskkjj  naji102    1232          0.96           229       ethtrader   \n",
       "7   pp9w09  naji102     831          0.86           475  CryptoCurrency   \n",
       "\n",
       "        created  \n",
       "      <float64>  \n",
       "0  1.636554e+09  \n",
       "2  1.635376e+09  \n",
       "3  1.634086e+09  \n",
       "4  1.636429e+09  \n",
       "5  1.632237e+09  \n",
       "7  1.631784e+09  "
      ]
     },
     "execution_count": 11,
     "metadata": {},
     "output_type": "execute_result"
    }
   ],
   "source": [
    "df_naji102_crypto = tibble(df_naji102_crypto)\n",
    "head(df_naji102_crypto)"
   ]
  },
  {
   "cell_type": "code",
   "execution_count": 12,
   "id": "904e2cc8",
   "metadata": {},
   "outputs": [],
   "source": [
    "df_naji102_crypto = (df_naji102_crypto >> \n",
    "                     mutate(created = f.created.astype(int)) >>\n",
    "                     mutate(created_dt = df_naji102_crypto['created'].apply(lambda time:\\\n",
    "                                                                     dt.datetime.fromtimestamp(time).strftime('%Y-%m-%d %H:%M:%S'))) >>\n",
    "                     arrange(f.created_dt) #organise data in chronological order\n",
    "                    )\n"
   ]
  },
  {
   "cell_type": "code",
   "execution_count": 13,
   "id": "3d41da80",
   "metadata": {},
   "outputs": [
    {
     "data": {
      "text/html": [
       "<table border=\"1\" class=\"dataframe\">\n",
       "  <thead>\n",
       "    <tr style=\"text-align: right;\">\n",
       "      <th></th>\n",
       "      <th>id</th>\n",
       "      <th>author</th>\n",
       "      <th>score</th>\n",
       "      <th>upvote_ratio</th>\n",
       "      <th>num_comments</th>\n",
       "      <th>subreddit</th>\n",
       "      <th>created</th>\n",
       "      <th>created_dt</th>\n",
       "    </tr>\n",
       "  </thead>\n",
       "  <tbody>\n",
       "    <tr>\n",
       "      <th style=\"font-style: italic;\" ></th>\n",
       "      <td style=\"font-style: italic;\" >&lt;object&gt;</td>\n",
       "      <td style=\"font-style: italic;\" >&lt;object&gt;</td>\n",
       "      <td style=\"font-style: italic;\" >&lt;int64&gt;</td>\n",
       "      <td style=\"font-style: italic;\" >&lt;float64&gt;</td>\n",
       "      <td style=\"font-style: italic;\" >&lt;int64&gt;</td>\n",
       "      <td style=\"font-style: italic;\" >&lt;object&gt;</td>\n",
       "      <td style=\"font-style: italic;\" >&lt;int64&gt;</td>\n",
       "      <td style=\"font-style: italic;\" >&lt;object&gt;</td>\n",
       "    </tr>\n",
       "    <tr>\n",
       "      <th>0</th>\n",
       "      <td>p0cj16</td>\n",
       "      <td>naji102</td>\n",
       "      <td>20</td>\n",
       "      <td>0.85</td>\n",
       "      <td>23</td>\n",
       "      <td>ethtrader</td>\n",
       "      <td>1628419659</td>\n",
       "      <td>2021-08-08 12:47:39</td>\n",
       "    </tr>\n",
       "    <tr>\n",
       "      <th>1</th>\n",
       "      <td>p0u3mz</td>\n",
       "      <td>naji102</td>\n",
       "      <td>14</td>\n",
       "      <td>0.82</td>\n",
       "      <td>30</td>\n",
       "      <td>CryptoCurrency</td>\n",
       "      <td>1628482641</td>\n",
       "      <td>2021-08-09 06:17:21</td>\n",
       "    </tr>\n",
       "    <tr>\n",
       "      <th>2</th>\n",
       "      <td>p0xr63</td>\n",
       "      <td>naji102</td>\n",
       "      <td>7</td>\n",
       "      <td>0.89</td>\n",
       "      <td>7</td>\n",
       "      <td>ethtrader</td>\n",
       "      <td>1628499854</td>\n",
       "      <td>2021-08-09 11:04:14</td>\n",
       "    </tr>\n",
       "    <tr>\n",
       "      <th>3</th>\n",
       "      <td>p1sebl</td>\n",
       "      <td>naji102</td>\n",
       "      <td>6</td>\n",
       "      <td>0.88</td>\n",
       "      <td>10</td>\n",
       "      <td>ethtrader</td>\n",
       "      <td>1628611936</td>\n",
       "      <td>2021-08-10 18:12:16</td>\n",
       "    </tr>\n",
       "    <tr>\n",
       "      <th>4</th>\n",
       "      <td>p25p4y</td>\n",
       "      <td>naji102</td>\n",
       "      <td>20</td>\n",
       "      <td>0.92</td>\n",
       "      <td>9</td>\n",
       "      <td>ethtrader</td>\n",
       "      <td>1628655425</td>\n",
       "      <td>2021-08-11 06:17:05</td>\n",
       "    </tr>\n",
       "    <tr>\n",
       "      <th>5</th>\n",
       "      <td>p2u8nt</td>\n",
       "      <td>naji102</td>\n",
       "      <td>50</td>\n",
       "      <td>0.95</td>\n",
       "      <td>15</td>\n",
       "      <td>ethtrader</td>\n",
       "      <td>1628749699</td>\n",
       "      <td>2021-08-12 08:28:19</td>\n",
       "    </tr>\n",
       "  </tbody>\n",
       "</table>"
      ],
      "text/plain": [
       "        id   author   score  upvote_ratio  num_comments       subreddit  \\\n",
       "  <object> <object> <int64>     <float64>       <int64>        <object>   \n",
       "0   p0cj16  naji102      20          0.85            23       ethtrader   \n",
       "1   p0u3mz  naji102      14          0.82            30  CryptoCurrency   \n",
       "2   p0xr63  naji102       7          0.89             7       ethtrader   \n",
       "3   p1sebl  naji102       6          0.88            10       ethtrader   \n",
       "4   p25p4y  naji102      20          0.92             9       ethtrader   \n",
       "5   p2u8nt  naji102      50          0.95            15       ethtrader   \n",
       "\n",
       "      created           created_dt  \n",
       "      <int64>             <object>  \n",
       "0  1628419659  2021-08-08 12:47:39  \n",
       "1  1628482641  2021-08-09 06:17:21  \n",
       "2  1628499854  2021-08-09 11:04:14  \n",
       "3  1628611936  2021-08-10 18:12:16  \n",
       "4  1628655425  2021-08-11 06:17:05  \n",
       "5  1628749699  2021-08-12 08:28:19  "
      ]
     },
     "execution_count": 13,
     "metadata": {},
     "output_type": "execute_result"
    }
   ],
   "source": [
    "head(df_naji102_crypto)"
   ]
  },
  {
   "cell_type": "code",
   "execution_count": 14,
   "id": "3de89623",
   "metadata": {},
   "outputs": [
    {
     "data": {
      "text/html": [
       "<table border=\"1\" class=\"dataframe\">\n",
       "  <thead>\n",
       "    <tr style=\"text-align: right;\">\n",
       "      <th></th>\n",
       "      <th>id</th>\n",
       "      <th>author</th>\n",
       "      <th>score</th>\n",
       "      <th>upvote_ratio</th>\n",
       "      <th>num_comments</th>\n",
       "      <th>subreddit</th>\n",
       "      <th>created</th>\n",
       "      <th>created_dt</th>\n",
       "    </tr>\n",
       "  </thead>\n",
       "  <tbody>\n",
       "    <tr>\n",
       "      <th style=\"font-style: italic;\" ></th>\n",
       "      <td style=\"font-style: italic;\" >&lt;object&gt;</td>\n",
       "      <td style=\"font-style: italic;\" >&lt;object&gt;</td>\n",
       "      <td style=\"font-style: italic;\" >&lt;int64&gt;</td>\n",
       "      <td style=\"font-style: italic;\" >&lt;float64&gt;</td>\n",
       "      <td style=\"font-style: italic;\" >&lt;int64&gt;</td>\n",
       "      <td style=\"font-style: italic;\" >&lt;object&gt;</td>\n",
       "      <td style=\"font-style: italic;\" >&lt;int64&gt;</td>\n",
       "      <td style=\"font-style: italic;\" >&lt;object&gt;</td>\n",
       "    </tr>\n",
       "    <tr>\n",
       "      <th>113</th>\n",
       "      <td>qstdxu</td>\n",
       "      <td>naji102</td>\n",
       "      <td>84</td>\n",
       "      <td>0.93</td>\n",
       "      <td>72</td>\n",
       "      <td>ethtrader</td>\n",
       "      <td>1636778060</td>\n",
       "      <td>2021-11-13 05:34:20</td>\n",
       "    </tr>\n",
       "    <tr>\n",
       "      <th>114</th>\n",
       "      <td>qsw2n8</td>\n",
       "      <td>naji102</td>\n",
       "      <td>4</td>\n",
       "      <td>0.70</td>\n",
       "      <td>13</td>\n",
       "      <td>ethtrader</td>\n",
       "      <td>1636788514</td>\n",
       "      <td>2021-11-13 08:28:34</td>\n",
       "    </tr>\n",
       "    <tr>\n",
       "      <th>115</th>\n",
       "      <td>qswdl9</td>\n",
       "      <td>naji102</td>\n",
       "      <td>1</td>\n",
       "      <td>1.00</td>\n",
       "      <td>2</td>\n",
       "      <td>ethtrader</td>\n",
       "      <td>1636789843</td>\n",
       "      <td>2021-11-13 08:50:43</td>\n",
       "    </tr>\n",
       "    <tr>\n",
       "      <th>116</th>\n",
       "      <td>qt0xmj</td>\n",
       "      <td>naji102</td>\n",
       "      <td>38</td>\n",
       "      <td>0.92</td>\n",
       "      <td>16</td>\n",
       "      <td>ethtrader</td>\n",
       "      <td>1636808926</td>\n",
       "      <td>2021-11-13 14:08:46</td>\n",
       "    </tr>\n",
       "    <tr>\n",
       "      <th>117</th>\n",
       "      <td>qt568t</td>\n",
       "      <td>naji102</td>\n",
       "      <td>117</td>\n",
       "      <td>0.97</td>\n",
       "      <td>21</td>\n",
       "      <td>ethtrader</td>\n",
       "      <td>1636822378</td>\n",
       "      <td>2021-11-13 17:52:58</td>\n",
       "    </tr>\n",
       "    <tr>\n",
       "      <th>118</th>\n",
       "      <td>qtsmlz</td>\n",
       "      <td>naji102</td>\n",
       "      <td>21</td>\n",
       "      <td>0.89</td>\n",
       "      <td>17</td>\n",
       "      <td>ethtrader</td>\n",
       "      <td>1636905171</td>\n",
       "      <td>2021-11-14 16:52:51</td>\n",
       "    </tr>\n",
       "  </tbody>\n",
       "</table>"
      ],
      "text/plain": [
       "          id   author   score  upvote_ratio  num_comments  subreddit  \\\n",
       "    <object> <object> <int64>     <float64>       <int64>   <object>   \n",
       "113   qstdxu  naji102      84          0.93            72  ethtrader   \n",
       "114   qsw2n8  naji102       4          0.70            13  ethtrader   \n",
       "115   qswdl9  naji102       1          1.00             2  ethtrader   \n",
       "116   qt0xmj  naji102      38          0.92            16  ethtrader   \n",
       "117   qt568t  naji102     117          0.97            21  ethtrader   \n",
       "118   qtsmlz  naji102      21          0.89            17  ethtrader   \n",
       "\n",
       "        created           created_dt  \n",
       "        <int64>             <object>  \n",
       "113  1636778060  2021-11-13 05:34:20  \n",
       "114  1636788514  2021-11-13 08:28:34  \n",
       "115  1636789843  2021-11-13 08:50:43  \n",
       "116  1636808926  2021-11-13 14:08:46  \n",
       "117  1636822378  2021-11-13 17:52:58  \n",
       "118  1636905171  2021-11-14 16:52:51  "
      ]
     },
     "execution_count": 14,
     "metadata": {},
     "output_type": "execute_result"
    }
   ],
   "source": [
    "tail(df_naji102_crypto)"
   ]
  },
  {
   "cell_type": "code",
   "execution_count": 15,
   "id": "e7edfe21",
   "metadata": {},
   "outputs": [],
   "source": [
    "#pd.date_range(start='2021-08-08', end='2021-08-09', freq='H')"
   ]
  },
  {
   "cell_type": "code",
   "execution_count": 134,
   "id": "18aac375",
   "metadata": {},
   "outputs": [],
   "source": [
    "from datetime import datetime, timedelta\n",
    "\n",
    "\n",
    "def round_minutes(time, direction, resolution):\n",
    "    new_minute = (time.minute // resolution + (1 if direction == 'up' else 0)) * resolution\n",
    "    return time + timedelta(minutes=new_minute - time.minute)\n",
    "\n",
    "naji102_posts_nxthr = [round_minutes(time,'up',60).replace(second=0) for time in pd.to_datetime(df_naji102_crypto['created_dt'])]"
   ]
  },
  {
   "cell_type": "code",
   "execution_count": 136,
   "id": "fd20b5e5",
   "metadata": {},
   "outputs": [],
   "source": [
    "naji102_posts_nxthr = pd.to_datetime(naji102_posts_nxthr)\n"
   ]
  },
  {
   "cell_type": "code",
   "execution_count": 140,
   "id": "6029c4b1",
   "metadata": {},
   "outputs": [
    {
     "data": {
      "text/html": [
       "<table border=\"1\" class=\"dataframe\">\n",
       "  <thead>\n",
       "    <tr style=\"text-align: right;\">\n",
       "      <th></th>\n",
       "      <th>0</th>\n",
       "    </tr>\n",
       "  </thead>\n",
       "  <tbody>\n",
       "    <tr>\n",
       "      <th style=\"font-style: italic;\" ></th>\n",
       "      <td style=\"font-style: italic;\" >&lt;datetime64[ns]&gt;</td>\n",
       "    </tr>\n",
       "    <tr>\n",
       "      <th>0</th>\n",
       "      <td>2021-08-08 13:00:00</td>\n",
       "    </tr>\n",
       "    <tr>\n",
       "      <th>1</th>\n",
       "      <td>2021-08-09 07:00:00</td>\n",
       "    </tr>\n",
       "    <tr>\n",
       "      <th>2</th>\n",
       "      <td>2021-08-09 12:00:00</td>\n",
       "    </tr>\n",
       "    <tr>\n",
       "      <th>3</th>\n",
       "      <td>2021-08-10 19:00:00</td>\n",
       "    </tr>\n",
       "    <tr>\n",
       "      <th>...</th>\n",
       "      <td>...</td>\n",
       "    </tr>\n",
       "    <tr>\n",
       "      <th>4</th>\n",
       "      <td>2021-08-11 07:00:00</td>\n",
       "    </tr>\n",
       "    <tr>\n",
       "      <th>114</th>\n",
       "      <td>2021-11-13 09:00:00</td>\n",
       "    </tr>\n",
       "    <tr>\n",
       "      <th>115</th>\n",
       "      <td>2021-11-13 09:00:00</td>\n",
       "    </tr>\n",
       "    <tr>\n",
       "      <th>116</th>\n",
       "      <td>2021-11-13 15:00:00</td>\n",
       "    </tr>\n",
       "    <tr>\n",
       "      <th>117</th>\n",
       "      <td>2021-11-13 18:00:00</td>\n",
       "    </tr>\n",
       "    <tr>\n",
       "      <th>118</th>\n",
       "      <td>2021-11-14 17:00:00</td>\n",
       "    </tr>\n",
       "  </tbody>\n",
       "</table>\n",
       "<p>119 rows × 1 columns</p>"
      ],
      "text/plain": [
       "                      0\n",
       "       <datetime64[ns]>\n",
       "0   2021-08-08 13:00:00\n",
       "1   2021-08-09 07:00:00\n",
       "2   2021-08-09 12:00:00\n",
       "3   2021-08-10 19:00:00\n",
       "..                  ...\n",
       "4   2021-08-11 07:00:00\n",
       "114 2021-11-13 09:00:00\n",
       "115 2021-11-13 09:00:00\n",
       "116 2021-11-13 15:00:00\n",
       "117 2021-11-13 18:00:00\n",
       "118 2021-11-14 17:00:00\n",
       "\n",
       "[119 rows x 1 columns]"
      ]
     },
     "execution_count": 140,
     "metadata": {},
     "output_type": "execute_result"
    }
   ],
   "source": [
    "naji102_posts_nxthr = pd.DataFrame(naji102_posts_nxthr)\n",
    "naji102_posts_nxthr"
   ]
  },
  {
   "cell_type": "code",
   "execution_count": 141,
   "id": "7165b4dc",
   "metadata": {},
   "outputs": [],
   "source": [
    "naji102_posts_nxthr.to_csv(\"naji102_posts_nxthr.csv\")"
   ]
  },
  {
   "cell_type": "code",
   "execution_count": 67,
   "id": "0e4ff85a",
   "metadata": {},
   "outputs": [],
   "source": [
    "import csv"
   ]
  },
  {
   "cell_type": "code",
   "execution_count": 164,
   "id": "c474dad3",
   "metadata": {},
   "outputs": [],
   "source": [
    "eth_hr_imp_w_signal = open(\"/Users/kc/Documents/StatCompVis/CryptoProject/Optimal-Cryptocurrency-Trading-Strategies-Step2/Reddit_Analysis/Price_Data_Extraction/Data/Binance_OHLC/ETHUSDT-1h-binance-imputed.csv\", \"r\")\n",
    "eth_hr_imp_w_signal = pd.read_csv(eth_hr_imp_w_signal)"
   ]
  },
  {
   "cell_type": "markdown",
   "id": "f502a48e",
   "metadata": {},
   "source": [
    "Backtesting via PnL"
   ]
  },
  {
   "cell_type": "code",
   "execution_count": 165,
   "id": "94338c29",
   "metadata": {},
   "outputs": [],
   "source": [
    "def get_pnl(prices_data_with_signal, start=1000):    \n",
    "    #extract closing prices and signal\n",
    "    signal = prices_data_with_signal['signal']\n",
    "    close = prices_data_with_signal['close']\n",
    "    \n",
    "    start = start\n",
    "    pnl = [start]\n",
    "    i = 0\n",
    "    for index in range(i + 1, len(close)):\n",
    "        if signal[i] == 1:\n",
    "            pnl.append(pnl[-1]*close[i+1]/close[i])\n",
    "        else:\n",
    "            pnl.append\n",
    "        i += 1\n",
    "    return pnl"
   ]
  },
  {
   "cell_type": "code",
   "execution_count": 166,
   "id": "4efe8203",
   "metadata": {},
   "outputs": [],
   "source": [
    "pnl = get_pnl(eth_hr_imp_w_signal)"
   ]
  },
  {
   "cell_type": "code",
   "execution_count": 167,
   "id": "5657338a",
   "metadata": {},
   "outputs": [
    {
     "data": {
      "image/png": "[encoded data removed]",
      "text/plain": [
       "<Figure size 432x288 with 1 Axes>"
      ]
     },
     "metadata": {
      "needs_background": "light"
     },
     "output_type": "display_data"
    }
   ],
   "source": [
    "plt.plot(pnl)\n",
    "plt.xlabel('Entry points')\n",
    "plt.ylabel('PnL')\n",
    "plt.title('PnL evolution through time')\n",
    "plt.show()"
   ]
  },
  {
   "cell_type": "code",
   "execution_count": 161,
   "id": "83eef987",
   "metadata": {},
   "outputs": [
    {
     "data": {
      "image/png": "[encoded data removed]",
      "text/plain": [
       "<Figure size 432x288 with 1 Axes>"
      ]
     },
     "metadata": {
      "needs_background": "light"
     },
     "output_type": "display_data"
    }
   ],
   "source": [
    "plt.plot(eth_hr_imp_w_signal['close'])            \n",
    "plt.xlabel('Time index')\n",
    "plt.ylabel('Close Price')\n",
    "plt.title('Close price through time')\n",
    "plt.show() "
   ]
  },
  {
   "cell_type": "markdown",
   "id": "bd2366d7",
   "metadata": {},
   "source": [
    "#### Minute data "
   ]
  },
  {
   "cell_type": "code",
   "execution_count": 71,
   "id": "bf847ae3",
   "metadata": {},
   "outputs": [],
   "source": [
    "eth_naji102_m = open(\"/Users/kc/Documents/StatCompVis/CryptoProject/Optimal-Cryptocurrency-Trading-Strategies-Step2/Reddit_Analysis/Price_Data_Extraction/Data/Binance_OHLC/ETHUSDT-1m-binance.csv\", \"r\")\n",
    "eth_naji102_m = pd.read_csv(eth_naji102_m)"
   ]
  },
  {
   "cell_type": "code",
   "execution_count": 72,
   "id": "5f71bb84",
   "metadata": {},
   "outputs": [
    {
     "data": {
      "text/html": [
       "<table border=\"1\" class=\"dataframe\">\n",
       "  <thead>\n",
       "    <tr style=\"text-align: right;\">\n",
       "      <th></th>\n",
       "      <th>timestamp</th>\n",
       "      <th>open</th>\n",
       "      <th>high</th>\n",
       "      <th>low</th>\n",
       "      <th>close</th>\n",
       "      <th>volume</th>\n",
       "      <th>close_time</th>\n",
       "      <th>quote_av</th>\n",
       "      <th>trades</th>\n",
       "      <th>tb_base_av</th>\n",
       "      <th>tb_quote_av</th>\n",
       "      <th>ignore</th>\n",
       "    </tr>\n",
       "  </thead>\n",
       "  <tbody>\n",
       "    <tr>\n",
       "      <th style=\"font-style: italic;\" ></th>\n",
       "      <td style=\"font-style: italic;\" >&lt;object&gt;</td>\n",
       "      <td style=\"font-style: italic;\" >&lt;float64&gt;</td>\n",
       "      <td style=\"font-style: italic;\" >&lt;float64&gt;</td>\n",
       "      <td style=\"font-style: italic;\" >&lt;float64&gt;</td>\n",
       "      <td style=\"font-style: italic;\" >&lt;float64&gt;</td>\n",
       "      <td style=\"font-style: italic;\" >&lt;float64&gt;</td>\n",
       "      <td style=\"font-style: italic;\" >&lt;int64&gt;</td>\n",
       "      <td style=\"font-style: italic;\" >&lt;float64&gt;</td>\n",
       "      <td style=\"font-style: italic;\" >&lt;int64&gt;</td>\n",
       "      <td style=\"font-style: italic;\" >&lt;float64&gt;</td>\n",
       "      <td style=\"font-style: italic;\" >&lt;float64&gt;</td>\n",
       "      <td style=\"font-style: italic;\" >&lt;int64&gt;</td>\n",
       "    </tr>\n",
       "    <tr>\n",
       "      <th>0</th>\n",
       "      <td>2021-08-08 00:00:00</td>\n",
       "      <td>3160.48</td>\n",
       "      <td>3161.00</td>\n",
       "      <td>3145.01</td>\n",
       "      <td>3148.34</td>\n",
       "      <td>2426.11137</td>\n",
       "      <td>1628380859999</td>\n",
       "      <td>7.652663e+06</td>\n",
       "      <td>3311</td>\n",
       "      <td>995.43940</td>\n",
       "      <td>3.141128e+06</td>\n",
       "      <td>0</td>\n",
       "    </tr>\n",
       "    <tr>\n",
       "      <th>1</th>\n",
       "      <td>2021-08-08 00:01:00</td>\n",
       "      <td>3148.34</td>\n",
       "      <td>3149.72</td>\n",
       "      <td>3135.06</td>\n",
       "      <td>3148.79</td>\n",
       "      <td>3312.67313</td>\n",
       "      <td>1628380919999</td>\n",
       "      <td>1.041290e+07</td>\n",
       "      <td>4354</td>\n",
       "      <td>1485.66497</td>\n",
       "      <td>4.671201e+06</td>\n",
       "      <td>0</td>\n",
       "    </tr>\n",
       "    <tr>\n",
       "      <th>2</th>\n",
       "      <td>2021-08-08 00:02:00</td>\n",
       "      <td>3149.33</td>\n",
       "      <td>3154.96</td>\n",
       "      <td>3139.59</td>\n",
       "      <td>3144.22</td>\n",
       "      <td>2413.37044</td>\n",
       "      <td>1628380979999</td>\n",
       "      <td>7.593712e+06</td>\n",
       "      <td>2702</td>\n",
       "      <td>1125.98599</td>\n",
       "      <td>3.543968e+06</td>\n",
       "      <td>0</td>\n",
       "    </tr>\n",
       "    <tr>\n",
       "      <th>3</th>\n",
       "      <td>2021-08-08 00:03:00</td>\n",
       "      <td>3144.21</td>\n",
       "      <td>3153.52</td>\n",
       "      <td>3144.21</td>\n",
       "      <td>3152.20</td>\n",
       "      <td>1451.31911</td>\n",
       "      <td>1628381039999</td>\n",
       "      <td>4.571061e+06</td>\n",
       "      <td>1789</td>\n",
       "      <td>770.29852</td>\n",
       "      <td>2.426120e+06</td>\n",
       "      <td>0</td>\n",
       "    </tr>\n",
       "    <tr>\n",
       "      <th>4</th>\n",
       "      <td>2021-08-08 00:04:00</td>\n",
       "      <td>3152.20</td>\n",
       "      <td>3166.10</td>\n",
       "      <td>3151.52</td>\n",
       "      <td>3164.49</td>\n",
       "      <td>2281.65963</td>\n",
       "      <td>1628381099999</td>\n",
       "      <td>7.204367e+06</td>\n",
       "      <td>2908</td>\n",
       "      <td>1226.17661</td>\n",
       "      <td>3.871758e+06</td>\n",
       "      <td>0</td>\n",
       "    </tr>\n",
       "    <tr>\n",
       "      <th>5</th>\n",
       "      <td>2021-08-08 00:05:00</td>\n",
       "      <td>3163.92</td>\n",
       "      <td>3170.00</td>\n",
       "      <td>3159.03</td>\n",
       "      <td>3162.97</td>\n",
       "      <td>2924.72092</td>\n",
       "      <td>1628381159999</td>\n",
       "      <td>9.262437e+06</td>\n",
       "      <td>2753</td>\n",
       "      <td>1686.44238</td>\n",
       "      <td>5.341826e+06</td>\n",
       "      <td>0</td>\n",
       "    </tr>\n",
       "  </tbody>\n",
       "</table>"
      ],
      "text/plain": [
       "             timestamp      open      high       low     close      volume  \\\n",
       "              <object> <float64> <float64> <float64> <float64>   <float64>   \n",
       "0  2021-08-08 00:00:00   3160.48   3161.00   3145.01   3148.34  2426.11137   \n",
       "1  2021-08-08 00:01:00   3148.34   3149.72   3135.06   3148.79  3312.67313   \n",
       "2  2021-08-08 00:02:00   3149.33   3154.96   3139.59   3144.22  2413.37044   \n",
       "3  2021-08-08 00:03:00   3144.21   3153.52   3144.21   3152.20  1451.31911   \n",
       "4  2021-08-08 00:04:00   3152.20   3166.10   3151.52   3164.49  2281.65963   \n",
       "5  2021-08-08 00:05:00   3163.92   3170.00   3159.03   3162.97  2924.72092   \n",
       "\n",
       "      close_time      quote_av  trades  tb_base_av   tb_quote_av  ignore  \n",
       "         <int64>     <float64> <int64>   <float64>     <float64> <int64>  \n",
       "0  1628380859999  7.652663e+06    3311   995.43940  3.141128e+06       0  \n",
       "1  1628380919999  1.041290e+07    4354  1485.66497  4.671201e+06       0  \n",
       "2  1628380979999  7.593712e+06    2702  1125.98599  3.543968e+06       0  \n",
       "3  1628381039999  4.571061e+06    1789   770.29852  2.426120e+06       0  \n",
       "4  1628381099999  7.204367e+06    2908  1226.17661  3.871758e+06       0  \n",
       "5  1628381159999  9.262437e+06    2753  1686.44238  5.341826e+06       0  "
      ]
     },
     "execution_count": 72,
     "metadata": {},
     "output_type": "execute_result"
    }
   ],
   "source": [
    "head(eth_naji102_m)"
   ]
  },
  {
   "cell_type": "code",
   "execution_count": null,
   "id": "037b0a88",
   "metadata": {},
   "outputs": [],
   "source": [
    "eth_naji102_m['timestamp'] = pd.to_datetime(eth_naji102_m)"
   ]
  },
  {
   "cell_type": "code",
   "execution_count": null,
   "id": "a2bf3f0a",
   "metadata": {},
   "outputs": [],
   "source": []
  }
 ],
 "metadata": {
  "kernelspec": {
   "display_name": "Python 3 (ipykernel)",
   "language": "python",
   "name": "python3"
  },
  "language_info": {
   "codemirror_mode": {
    "name": "ipython",
    "version": 3
   },
   "file_extension": ".py",
   "mimetype": "text/x-python",
   "name": "python",
   "nbconvert_exporter": "python",
   "pygments_lexer": "ipython3",
   "version": "3.7.11"
  }
 },
 "nbformat": 4,
 "nbformat_minor": 5
}
