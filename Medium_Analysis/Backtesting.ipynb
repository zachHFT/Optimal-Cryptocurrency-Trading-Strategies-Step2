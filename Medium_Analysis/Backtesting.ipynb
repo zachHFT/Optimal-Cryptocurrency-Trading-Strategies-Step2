{
 "cells": [
  {
   "cell_type": "code",
   "execution_count": 1,
   "id": "7b99d6ba",
   "metadata": {},
   "outputs": [],
   "source": [
    "import pandas as pd\n",
    "import numpy as np\n",
    "from datetime import date, datetime\n",
    "from dateutil.parser import parse\n",
    "import matplotlib.pyplot as plt"
   ]
  },
  {
   "cell_type": "code",
   "execution_count": 2,
   "id": "6d0c59da",
   "metadata": {},
   "outputs": [],
   "source": [
    "# Date is up to Nov 6\n",
    "date_data = pd.read_csv('/Users/liuye/ForPython/Optimal-Cryptocurrency-Trading-Strategies-Step2/Medium_Analysis/Webscrapping/kybermedium.csv')"
   ]
  },
  {
   "cell_type": "code",
   "execution_count": 3,
   "id": "5a24e353",
   "metadata": {},
   "outputs": [
    {
     "name": "stderr",
     "output_type": "stream",
     "text": [
      "C:\\Users\\liuye\\anaconda3\\envs\\work\\lib\\site-packages\\ipykernel_launcher.py:1: SettingWithCopyWarning: \n",
      "A value is trying to be set on a copy of a slice from a DataFrame\n",
      "\n",
      "See the caveats in the documentation: https://pandas.pydata.org/pandas-docs/stable/user_guide/indexing.html#returning-a-view-versus-a-copy\n",
      "  \"\"\"Entry point for launching an IPython kernel.\n",
      "C:\\Users\\liuye\\anaconda3\\envs\\work\\lib\\site-packages\\ipykernel_launcher.py:2: SettingWithCopyWarning: \n",
      "A value is trying to be set on a copy of a slice from a DataFrame\n",
      "\n",
      "See the caveats in the documentation: https://pandas.pydata.org/pandas-docs/stable/user_guide/indexing.html#returning-a-view-versus-a-copy\n",
      "  \n"
     ]
    }
   ],
   "source": [
    "date_data['Date'][0]= '·Nov 6'\n",
    "date_data['Date'][1]= '·Nov 5'"
   ]
  },
  {
   "cell_type": "code",
   "execution_count": 4,
   "id": "d17aab14",
   "metadata": {},
   "outputs": [
    {
     "ename": "ParserError",
     "evalue": "Unknown string format: eb 19, 2020",
     "output_type": "error",
     "traceback": [
      "\u001b[1;31m---------------------------------------------------------------------------\u001b[0m",
      "\u001b[1;31mParserError\u001b[0m                               Traceback (most recent call last)",
      "\u001b[1;32m<ipython-input-4-49d91727aedd>\u001b[0m in \u001b[0;36m<module>\u001b[1;34m\u001b[0m\n\u001b[0;32m      2\u001b[0m \u001b[1;32mfor\u001b[0m \u001b[0mx\u001b[0m \u001b[1;32min\u001b[0m \u001b[0mdate_data\u001b[0m\u001b[1;33m[\u001b[0m\u001b[1;34m'Date'\u001b[0m\u001b[1;33m]\u001b[0m\u001b[1;33m:\u001b[0m\u001b[1;33m\u001b[0m\u001b[1;33m\u001b[0m\u001b[0m\n\u001b[0;32m      3\u001b[0m     \u001b[0md\u001b[0m \u001b[1;33m=\u001b[0m \u001b[0mx\u001b[0m\u001b[1;33m[\u001b[0m\u001b[1;36m1\u001b[0m\u001b[1;33m:\u001b[0m\u001b[1;33m]\u001b[0m\u001b[1;33m\u001b[0m\u001b[1;33m\u001b[0m\u001b[0m\n\u001b[1;32m----> 4\u001b[1;33m     \u001b[0mdt\u001b[0m\u001b[1;33m.\u001b[0m\u001b[0mappend\u001b[0m\u001b[1;33m(\u001b[0m\u001b[0mparse\u001b[0m\u001b[1;33m(\u001b[0m\u001b[0md\u001b[0m\u001b[1;33m)\u001b[0m\u001b[1;33m)\u001b[0m\u001b[1;33m\u001b[0m\u001b[1;33m\u001b[0m\u001b[0m\n\u001b[0m",
      "\u001b[1;32m~\\anaconda3\\envs\\work\\lib\\site-packages\\dateutil\\parser\\_parser.py\u001b[0m in \u001b[0;36mparse\u001b[1;34m(timestr, parserinfo, **kwargs)\u001b[0m\n\u001b[0;32m   1372\u001b[0m         \u001b[1;32mreturn\u001b[0m \u001b[0mparser\u001b[0m\u001b[1;33m(\u001b[0m\u001b[0mparserinfo\u001b[0m\u001b[1;33m)\u001b[0m\u001b[1;33m.\u001b[0m\u001b[0mparse\u001b[0m\u001b[1;33m(\u001b[0m\u001b[0mtimestr\u001b[0m\u001b[1;33m,\u001b[0m \u001b[1;33m**\u001b[0m\u001b[0mkwargs\u001b[0m\u001b[1;33m)\u001b[0m\u001b[1;33m\u001b[0m\u001b[1;33m\u001b[0m\u001b[0m\n\u001b[0;32m   1373\u001b[0m     \u001b[1;32melse\u001b[0m\u001b[1;33m:\u001b[0m\u001b[1;33m\u001b[0m\u001b[1;33m\u001b[0m\u001b[0m\n\u001b[1;32m-> 1374\u001b[1;33m         \u001b[1;32mreturn\u001b[0m \u001b[0mDEFAULTPARSER\u001b[0m\u001b[1;33m.\u001b[0m\u001b[0mparse\u001b[0m\u001b[1;33m(\u001b[0m\u001b[0mtimestr\u001b[0m\u001b[1;33m,\u001b[0m \u001b[1;33m**\u001b[0m\u001b[0mkwargs\u001b[0m\u001b[1;33m)\u001b[0m\u001b[1;33m\u001b[0m\u001b[1;33m\u001b[0m\u001b[0m\n\u001b[0m\u001b[0;32m   1375\u001b[0m \u001b[1;33m\u001b[0m\u001b[0m\n\u001b[0;32m   1376\u001b[0m \u001b[1;33m\u001b[0m\u001b[0m\n",
      "\u001b[1;32m~\\anaconda3\\envs\\work\\lib\\site-packages\\dateutil\\parser\\_parser.py\u001b[0m in \u001b[0;36mparse\u001b[1;34m(self, timestr, default, ignoretz, tzinfos, **kwargs)\u001b[0m\n\u001b[0;32m    647\u001b[0m \u001b[1;33m\u001b[0m\u001b[0m\n\u001b[0;32m    648\u001b[0m         \u001b[1;32mif\u001b[0m \u001b[0mres\u001b[0m \u001b[1;32mis\u001b[0m \u001b[1;32mNone\u001b[0m\u001b[1;33m:\u001b[0m\u001b[1;33m\u001b[0m\u001b[1;33m\u001b[0m\u001b[0m\n\u001b[1;32m--> 649\u001b[1;33m             \u001b[1;32mraise\u001b[0m \u001b[0mParserError\u001b[0m\u001b[1;33m(\u001b[0m\u001b[1;34m\"Unknown string format: %s\"\u001b[0m\u001b[1;33m,\u001b[0m \u001b[0mtimestr\u001b[0m\u001b[1;33m)\u001b[0m\u001b[1;33m\u001b[0m\u001b[1;33m\u001b[0m\u001b[0m\n\u001b[0m\u001b[0;32m    650\u001b[0m \u001b[1;33m\u001b[0m\u001b[0m\n\u001b[0;32m    651\u001b[0m         \u001b[1;32mif\u001b[0m \u001b[0mlen\u001b[0m\u001b[1;33m(\u001b[0m\u001b[0mres\u001b[0m\u001b[1;33m)\u001b[0m \u001b[1;33m==\u001b[0m \u001b[1;36m0\u001b[0m\u001b[1;33m:\u001b[0m\u001b[1;33m\u001b[0m\u001b[1;33m\u001b[0m\u001b[0m\n",
      "\u001b[1;31mParserError\u001b[0m: Unknown string format: eb 19, 2020"
     ]
    }
   ],
   "source": [
    "dt = []\n",
    "for x in date_data['Date']:\n",
    "    d = x[1:]\n",
    "    dt.append(parse(d))"
   ]
  },
  {
   "cell_type": "code",
   "execution_count": 5,
   "id": "61914f84",
   "metadata": {},
   "outputs": [
    {
     "data": {
      "text/plain": [
       "117"
      ]
     },
     "execution_count": 5,
     "metadata": {},
     "output_type": "execute_result"
    }
   ],
   "source": [
    "len(dt)"
   ]
  },
  {
   "cell_type": "code",
   "execution_count": 6,
   "id": "7ce58527",
   "metadata": {},
   "outputs": [
    {
     "data": {
      "text/plain": [
       "'·Feb 17, 2020'"
      ]
     },
     "execution_count": 6,
     "metadata": {},
     "output_type": "execute_result"
    }
   ],
   "source": [
    "date_data['Date'][119]"
   ]
  },
  {
   "cell_type": "code",
   "execution_count": 7,
   "id": "485216a7",
   "metadata": {},
   "outputs": [],
   "source": [
    "price = pd.read_csv('/Users/liuye/ForPython/Optimal-Cryptocurrency-Trading-Strategies-Step2/Medium_Analysis/Data Extraction/KNCUSDT-1d-binance.csv')"
   ]
  },
  {
   "cell_type": "code",
   "execution_count": 8,
   "id": "98682fa8",
   "metadata": {},
   "outputs": [
    {
     "data": {
      "text/html": [
       "<div>\n",
       "<style scoped>\n",
       "    .dataframe tbody tr th:only-of-type {\n",
       "        vertical-align: middle;\n",
       "    }\n",
       "\n",
       "    .dataframe tbody tr th {\n",
       "        vertical-align: top;\n",
       "    }\n",
       "\n",
       "    .dataframe thead th {\n",
       "        text-align: right;\n",
       "    }\n",
       "</style>\n",
       "<table border=\"1\" class=\"dataframe\">\n",
       "  <thead>\n",
       "    <tr style=\"text-align: right;\">\n",
       "      <th></th>\n",
       "      <th>timestamp</th>\n",
       "      <th>open</th>\n",
       "      <th>high</th>\n",
       "      <th>low</th>\n",
       "      <th>close</th>\n",
       "      <th>volume</th>\n",
       "      <th>close_time</th>\n",
       "      <th>quote_av</th>\n",
       "      <th>trades</th>\n",
       "      <th>tb_base_av</th>\n",
       "      <th>tb_quote_av</th>\n",
       "      <th>ignore</th>\n",
       "    </tr>\n",
       "  </thead>\n",
       "  <tbody>\n",
       "    <tr>\n",
       "      <th>0</th>\n",
       "      <td>2020-06-12</td>\n",
       "      <td>1.154</td>\n",
       "      <td>1.345</td>\n",
       "      <td>1.122</td>\n",
       "      <td>1.279</td>\n",
       "      <td>1784200.443</td>\n",
       "      <td>1592006399999</td>\n",
       "      <td>2.248349e+06</td>\n",
       "      <td>7342</td>\n",
       "      <td>852535.463</td>\n",
       "      <td>1.075682e+06</td>\n",
       "      <td>0</td>\n",
       "    </tr>\n",
       "    <tr>\n",
       "      <th>1</th>\n",
       "      <td>2020-06-13</td>\n",
       "      <td>1.282</td>\n",
       "      <td>1.296</td>\n",
       "      <td>1.171</td>\n",
       "      <td>1.203</td>\n",
       "      <td>1439776.969</td>\n",
       "      <td>1592092799999</td>\n",
       "      <td>1.768370e+06</td>\n",
       "      <td>5902</td>\n",
       "      <td>757962.586</td>\n",
       "      <td>9.311792e+05</td>\n",
       "      <td>0</td>\n",
       "    </tr>\n",
       "    <tr>\n",
       "      <th>2</th>\n",
       "      <td>2020-06-14</td>\n",
       "      <td>1.204</td>\n",
       "      <td>1.249</td>\n",
       "      <td>1.121</td>\n",
       "      <td>1.171</td>\n",
       "      <td>1539296.314</td>\n",
       "      <td>1592179199999</td>\n",
       "      <td>1.830286e+06</td>\n",
       "      <td>7034</td>\n",
       "      <td>698799.450</td>\n",
       "      <td>8.322369e+05</td>\n",
       "      <td>0</td>\n",
       "    </tr>\n",
       "    <tr>\n",
       "      <th>3</th>\n",
       "      <td>2020-06-15</td>\n",
       "      <td>1.171</td>\n",
       "      <td>1.218</td>\n",
       "      <td>1.051</td>\n",
       "      <td>1.165</td>\n",
       "      <td>1840790.506</td>\n",
       "      <td>1592265599999</td>\n",
       "      <td>2.108569e+06</td>\n",
       "      <td>6219</td>\n",
       "      <td>795939.113</td>\n",
       "      <td>9.136746e+05</td>\n",
       "      <td>0</td>\n",
       "    </tr>\n",
       "    <tr>\n",
       "      <th>4</th>\n",
       "      <td>2020-06-16</td>\n",
       "      <td>1.165</td>\n",
       "      <td>1.267</td>\n",
       "      <td>1.141</td>\n",
       "      <td>1.256</td>\n",
       "      <td>1534566.671</td>\n",
       "      <td>1592351999999</td>\n",
       "      <td>1.856095e+06</td>\n",
       "      <td>4436</td>\n",
       "      <td>694031.507</td>\n",
       "      <td>8.413588e+05</td>\n",
       "      <td>0</td>\n",
       "    </tr>\n",
       "    <tr>\n",
       "      <th>...</th>\n",
       "      <td>...</td>\n",
       "      <td>...</td>\n",
       "      <td>...</td>\n",
       "      <td>...</td>\n",
       "      <td>...</td>\n",
       "      <td>...</td>\n",
       "      <td>...</td>\n",
       "      <td>...</td>\n",
       "      <td>...</td>\n",
       "      <td>...</td>\n",
       "      <td>...</td>\n",
       "      <td>...</td>\n",
       "    </tr>\n",
       "    <tr>\n",
       "      <th>518</th>\n",
       "      <td>2021-11-12</td>\n",
       "      <td>1.865</td>\n",
       "      <td>1.923</td>\n",
       "      <td>1.780</td>\n",
       "      <td>1.850</td>\n",
       "      <td>2878451.400</td>\n",
       "      <td>1636761599999</td>\n",
       "      <td>5.342121e+06</td>\n",
       "      <td>18372</td>\n",
       "      <td>1436630.900</td>\n",
       "      <td>2.668999e+06</td>\n",
       "      <td>0</td>\n",
       "    </tr>\n",
       "    <tr>\n",
       "      <th>519</th>\n",
       "      <td>2021-11-13</td>\n",
       "      <td>1.851</td>\n",
       "      <td>1.928</td>\n",
       "      <td>1.817</td>\n",
       "      <td>1.886</td>\n",
       "      <td>1853695.200</td>\n",
       "      <td>1636847999999</td>\n",
       "      <td>3.465713e+06</td>\n",
       "      <td>14576</td>\n",
       "      <td>921417.600</td>\n",
       "      <td>1.722206e+06</td>\n",
       "      <td>0</td>\n",
       "    </tr>\n",
       "    <tr>\n",
       "      <th>520</th>\n",
       "      <td>2021-11-14</td>\n",
       "      <td>1.884</td>\n",
       "      <td>1.891</td>\n",
       "      <td>1.819</td>\n",
       "      <td>1.882</td>\n",
       "      <td>1614662.900</td>\n",
       "      <td>1636934399999</td>\n",
       "      <td>3.003461e+06</td>\n",
       "      <td>12393</td>\n",
       "      <td>812877.300</td>\n",
       "      <td>1.512401e+06</td>\n",
       "      <td>0</td>\n",
       "    </tr>\n",
       "    <tr>\n",
       "      <th>521</th>\n",
       "      <td>2021-11-15</td>\n",
       "      <td>1.883</td>\n",
       "      <td>1.967</td>\n",
       "      <td>1.858</td>\n",
       "      <td>1.895</td>\n",
       "      <td>2847055.900</td>\n",
       "      <td>1637020799999</td>\n",
       "      <td>5.456113e+06</td>\n",
       "      <td>21325</td>\n",
       "      <td>1409817.200</td>\n",
       "      <td>2.701448e+06</td>\n",
       "      <td>0</td>\n",
       "    </tr>\n",
       "    <tr>\n",
       "      <th>522</th>\n",
       "      <td>2021-11-16</td>\n",
       "      <td>1.896</td>\n",
       "      <td>1.897</td>\n",
       "      <td>1.611</td>\n",
       "      <td>1.715</td>\n",
       "      <td>2921424.000</td>\n",
       "      <td>1637107199999</td>\n",
       "      <td>5.108795e+06</td>\n",
       "      <td>21719</td>\n",
       "      <td>1517116.700</td>\n",
       "      <td>2.654673e+06</td>\n",
       "      <td>0</td>\n",
       "    </tr>\n",
       "  </tbody>\n",
       "</table>\n",
       "<p>523 rows × 12 columns</p>\n",
       "</div>"
      ],
      "text/plain": [
       "      timestamp   open   high    low  close       volume     close_time  \\\n",
       "0    2020-06-12  1.154  1.345  1.122  1.279  1784200.443  1592006399999   \n",
       "1    2020-06-13  1.282  1.296  1.171  1.203  1439776.969  1592092799999   \n",
       "2    2020-06-14  1.204  1.249  1.121  1.171  1539296.314  1592179199999   \n",
       "3    2020-06-15  1.171  1.218  1.051  1.165  1840790.506  1592265599999   \n",
       "4    2020-06-16  1.165  1.267  1.141  1.256  1534566.671  1592351999999   \n",
       "..          ...    ...    ...    ...    ...          ...            ...   \n",
       "518  2021-11-12  1.865  1.923  1.780  1.850  2878451.400  1636761599999   \n",
       "519  2021-11-13  1.851  1.928  1.817  1.886  1853695.200  1636847999999   \n",
       "520  2021-11-14  1.884  1.891  1.819  1.882  1614662.900  1636934399999   \n",
       "521  2021-11-15  1.883  1.967  1.858  1.895  2847055.900  1637020799999   \n",
       "522  2021-11-16  1.896  1.897  1.611  1.715  2921424.000  1637107199999   \n",
       "\n",
       "         quote_av  trades   tb_base_av   tb_quote_av  ignore  \n",
       "0    2.248349e+06    7342   852535.463  1.075682e+06       0  \n",
       "1    1.768370e+06    5902   757962.586  9.311792e+05       0  \n",
       "2    1.830286e+06    7034   698799.450  8.322369e+05       0  \n",
       "3    2.108569e+06    6219   795939.113  9.136746e+05       0  \n",
       "4    1.856095e+06    4436   694031.507  8.413588e+05       0  \n",
       "..            ...     ...          ...           ...     ...  \n",
       "518  5.342121e+06   18372  1436630.900  2.668999e+06       0  \n",
       "519  3.465713e+06   14576   921417.600  1.722206e+06       0  \n",
       "520  3.003461e+06   12393   812877.300  1.512401e+06       0  \n",
       "521  5.456113e+06   21325  1409817.200  2.701448e+06       0  \n",
       "522  5.108795e+06   21719  1517116.700  2.654673e+06       0  \n",
       "\n",
       "[523 rows x 12 columns]"
      ]
     },
     "execution_count": 8,
     "metadata": {},
     "output_type": "execute_result"
    }
   ],
   "source": [
    "price"
   ]
  },
  {
   "cell_type": "code",
   "execution_count": 9,
   "id": "111388f8",
   "metadata": {},
   "outputs": [],
   "source": [
    "ddt = pd.DataFrame(dt, columns = ['timestamp'])\n",
    "ddt['signal'] = 1\n",
    "\n",
    "def convert_datetime(adt):\n",
    "    return datetime.strftime(adt, '%Y-%m-%d')\n",
    "\n",
    "ddt['timestamp']= ddt['timestamp'].apply(convert_datetime)"
   ]
  },
  {
   "cell_type": "code",
   "execution_count": 10,
   "id": "e8ae64fc",
   "metadata": {},
   "outputs": [
    {
     "data": {
      "text/plain": [
       "0      2021-11-06\n",
       "1      2021-11-05\n",
       "2      2021-10-27\n",
       "3      2021-10-22\n",
       "4      2021-10-14\n",
       "          ...    \n",
       "112    2020-03-06\n",
       "113    2020-03-02\n",
       "114    2020-02-27\n",
       "115    2020-02-26\n",
       "116    2020-02-20\n",
       "Name: timestamp, Length: 117, dtype: object"
      ]
     },
     "execution_count": 10,
     "metadata": {},
     "output_type": "execute_result"
    }
   ],
   "source": [
    "ddt['timestamp']"
   ]
  },
  {
   "cell_type": "code",
   "execution_count": 11,
   "id": "fef0b27a",
   "metadata": {},
   "outputs": [],
   "source": [
    "df = pd.merge(price,ddt,how=\"left\", on='timestamp')"
   ]
  },
  {
   "cell_type": "code",
   "execution_count": 12,
   "id": "4fd276bb",
   "metadata": {},
   "outputs": [
    {
     "data": {
      "text/html": [
       "<div>\n",
       "<style scoped>\n",
       "    .dataframe tbody tr th:only-of-type {\n",
       "        vertical-align: middle;\n",
       "    }\n",
       "\n",
       "    .dataframe tbody tr th {\n",
       "        vertical-align: top;\n",
       "    }\n",
       "\n",
       "    .dataframe thead th {\n",
       "        text-align: right;\n",
       "    }\n",
       "</style>\n",
       "<table border=\"1\" class=\"dataframe\">\n",
       "  <thead>\n",
       "    <tr style=\"text-align: right;\">\n",
       "      <th></th>\n",
       "      <th>timestamp</th>\n",
       "      <th>open</th>\n",
       "      <th>high</th>\n",
       "      <th>low</th>\n",
       "      <th>close</th>\n",
       "      <th>volume</th>\n",
       "      <th>close_time</th>\n",
       "      <th>quote_av</th>\n",
       "      <th>trades</th>\n",
       "      <th>tb_base_av</th>\n",
       "      <th>tb_quote_av</th>\n",
       "      <th>ignore</th>\n",
       "      <th>signal</th>\n",
       "    </tr>\n",
       "  </thead>\n",
       "  <tbody>\n",
       "    <tr>\n",
       "      <th>0</th>\n",
       "      <td>2020-06-12</td>\n",
       "      <td>1.154</td>\n",
       "      <td>1.345</td>\n",
       "      <td>1.122</td>\n",
       "      <td>1.279</td>\n",
       "      <td>1784200.443</td>\n",
       "      <td>1592006399999</td>\n",
       "      <td>2.248349e+06</td>\n",
       "      <td>7342</td>\n",
       "      <td>852535.463</td>\n",
       "      <td>1.075682e+06</td>\n",
       "      <td>0</td>\n",
       "      <td>1.0</td>\n",
       "    </tr>\n",
       "    <tr>\n",
       "      <th>1</th>\n",
       "      <td>2020-06-13</td>\n",
       "      <td>1.282</td>\n",
       "      <td>1.296</td>\n",
       "      <td>1.171</td>\n",
       "      <td>1.203</td>\n",
       "      <td>1439776.969</td>\n",
       "      <td>1592092799999</td>\n",
       "      <td>1.768370e+06</td>\n",
       "      <td>5902</td>\n",
       "      <td>757962.586</td>\n",
       "      <td>9.311792e+05</td>\n",
       "      <td>0</td>\n",
       "      <td>0.0</td>\n",
       "    </tr>\n",
       "    <tr>\n",
       "      <th>2</th>\n",
       "      <td>2020-06-14</td>\n",
       "      <td>1.204</td>\n",
       "      <td>1.249</td>\n",
       "      <td>1.121</td>\n",
       "      <td>1.171</td>\n",
       "      <td>1539296.314</td>\n",
       "      <td>1592179199999</td>\n",
       "      <td>1.830286e+06</td>\n",
       "      <td>7034</td>\n",
       "      <td>698799.450</td>\n",
       "      <td>8.322369e+05</td>\n",
       "      <td>0</td>\n",
       "      <td>0.0</td>\n",
       "    </tr>\n",
       "    <tr>\n",
       "      <th>3</th>\n",
       "      <td>2020-06-15</td>\n",
       "      <td>1.171</td>\n",
       "      <td>1.218</td>\n",
       "      <td>1.051</td>\n",
       "      <td>1.165</td>\n",
       "      <td>1840790.506</td>\n",
       "      <td>1592265599999</td>\n",
       "      <td>2.108569e+06</td>\n",
       "      <td>6219</td>\n",
       "      <td>795939.113</td>\n",
       "      <td>9.136746e+05</td>\n",
       "      <td>0</td>\n",
       "      <td>1.0</td>\n",
       "    </tr>\n",
       "    <tr>\n",
       "      <th>4</th>\n",
       "      <td>2020-06-16</td>\n",
       "      <td>1.165</td>\n",
       "      <td>1.267</td>\n",
       "      <td>1.141</td>\n",
       "      <td>1.256</td>\n",
       "      <td>1534566.671</td>\n",
       "      <td>1592351999999</td>\n",
       "      <td>1.856095e+06</td>\n",
       "      <td>4436</td>\n",
       "      <td>694031.507</td>\n",
       "      <td>8.413588e+05</td>\n",
       "      <td>0</td>\n",
       "      <td>0.0</td>\n",
       "    </tr>\n",
       "    <tr>\n",
       "      <th>...</th>\n",
       "      <td>...</td>\n",
       "      <td>...</td>\n",
       "      <td>...</td>\n",
       "      <td>...</td>\n",
       "      <td>...</td>\n",
       "      <td>...</td>\n",
       "      <td>...</td>\n",
       "      <td>...</td>\n",
       "      <td>...</td>\n",
       "      <td>...</td>\n",
       "      <td>...</td>\n",
       "      <td>...</td>\n",
       "      <td>...</td>\n",
       "    </tr>\n",
       "    <tr>\n",
       "      <th>531</th>\n",
       "      <td>2021-11-12</td>\n",
       "      <td>1.865</td>\n",
       "      <td>1.923</td>\n",
       "      <td>1.780</td>\n",
       "      <td>1.850</td>\n",
       "      <td>2878451.400</td>\n",
       "      <td>1636761599999</td>\n",
       "      <td>5.342121e+06</td>\n",
       "      <td>18372</td>\n",
       "      <td>1436630.900</td>\n",
       "      <td>2.668999e+06</td>\n",
       "      <td>0</td>\n",
       "      <td>0.0</td>\n",
       "    </tr>\n",
       "    <tr>\n",
       "      <th>532</th>\n",
       "      <td>2021-11-13</td>\n",
       "      <td>1.851</td>\n",
       "      <td>1.928</td>\n",
       "      <td>1.817</td>\n",
       "      <td>1.886</td>\n",
       "      <td>1853695.200</td>\n",
       "      <td>1636847999999</td>\n",
       "      <td>3.465713e+06</td>\n",
       "      <td>14576</td>\n",
       "      <td>921417.600</td>\n",
       "      <td>1.722206e+06</td>\n",
       "      <td>0</td>\n",
       "      <td>0.0</td>\n",
       "    </tr>\n",
       "    <tr>\n",
       "      <th>533</th>\n",
       "      <td>2021-11-14</td>\n",
       "      <td>1.884</td>\n",
       "      <td>1.891</td>\n",
       "      <td>1.819</td>\n",
       "      <td>1.882</td>\n",
       "      <td>1614662.900</td>\n",
       "      <td>1636934399999</td>\n",
       "      <td>3.003461e+06</td>\n",
       "      <td>12393</td>\n",
       "      <td>812877.300</td>\n",
       "      <td>1.512401e+06</td>\n",
       "      <td>0</td>\n",
       "      <td>0.0</td>\n",
       "    </tr>\n",
       "    <tr>\n",
       "      <th>534</th>\n",
       "      <td>2021-11-15</td>\n",
       "      <td>1.883</td>\n",
       "      <td>1.967</td>\n",
       "      <td>1.858</td>\n",
       "      <td>1.895</td>\n",
       "      <td>2847055.900</td>\n",
       "      <td>1637020799999</td>\n",
       "      <td>5.456113e+06</td>\n",
       "      <td>21325</td>\n",
       "      <td>1409817.200</td>\n",
       "      <td>2.701448e+06</td>\n",
       "      <td>0</td>\n",
       "      <td>0.0</td>\n",
       "    </tr>\n",
       "    <tr>\n",
       "      <th>535</th>\n",
       "      <td>2021-11-16</td>\n",
       "      <td>1.896</td>\n",
       "      <td>1.897</td>\n",
       "      <td>1.611</td>\n",
       "      <td>1.715</td>\n",
       "      <td>2921424.000</td>\n",
       "      <td>1637107199999</td>\n",
       "      <td>5.108795e+06</td>\n",
       "      <td>21719</td>\n",
       "      <td>1517116.700</td>\n",
       "      <td>2.654673e+06</td>\n",
       "      <td>0</td>\n",
       "      <td>0.0</td>\n",
       "    </tr>\n",
       "  </tbody>\n",
       "</table>\n",
       "<p>536 rows × 13 columns</p>\n",
       "</div>"
      ],
      "text/plain": [
       "      timestamp   open   high    low  close       volume     close_time  \\\n",
       "0    2020-06-12  1.154  1.345  1.122  1.279  1784200.443  1592006399999   \n",
       "1    2020-06-13  1.282  1.296  1.171  1.203  1439776.969  1592092799999   \n",
       "2    2020-06-14  1.204  1.249  1.121  1.171  1539296.314  1592179199999   \n",
       "3    2020-06-15  1.171  1.218  1.051  1.165  1840790.506  1592265599999   \n",
       "4    2020-06-16  1.165  1.267  1.141  1.256  1534566.671  1592351999999   \n",
       "..          ...    ...    ...    ...    ...          ...            ...   \n",
       "531  2021-11-12  1.865  1.923  1.780  1.850  2878451.400  1636761599999   \n",
       "532  2021-11-13  1.851  1.928  1.817  1.886  1853695.200  1636847999999   \n",
       "533  2021-11-14  1.884  1.891  1.819  1.882  1614662.900  1636934399999   \n",
       "534  2021-11-15  1.883  1.967  1.858  1.895  2847055.900  1637020799999   \n",
       "535  2021-11-16  1.896  1.897  1.611  1.715  2921424.000  1637107199999   \n",
       "\n",
       "         quote_av  trades   tb_base_av   tb_quote_av  ignore  signal  \n",
       "0    2.248349e+06    7342   852535.463  1.075682e+06       0     1.0  \n",
       "1    1.768370e+06    5902   757962.586  9.311792e+05       0     0.0  \n",
       "2    1.830286e+06    7034   698799.450  8.322369e+05       0     0.0  \n",
       "3    2.108569e+06    6219   795939.113  9.136746e+05       0     1.0  \n",
       "4    1.856095e+06    4436   694031.507  8.413588e+05       0     0.0  \n",
       "..            ...     ...          ...           ...     ...     ...  \n",
       "531  5.342121e+06   18372  1436630.900  2.668999e+06       0     0.0  \n",
       "532  3.465713e+06   14576   921417.600  1.722206e+06       0     0.0  \n",
       "533  3.003461e+06   12393   812877.300  1.512401e+06       0     0.0  \n",
       "534  5.456113e+06   21325  1409817.200  2.701448e+06       0     0.0  \n",
       "535  5.108795e+06   21719  1517116.700  2.654673e+06       0     0.0  \n",
       "\n",
       "[536 rows x 13 columns]"
      ]
     },
     "execution_count": 12,
     "metadata": {},
     "output_type": "execute_result"
    }
   ],
   "source": [
    "df = df.fillna(0)\n",
    "df"
   ]
  },
  {
   "cell_type": "code",
   "execution_count": 13,
   "id": "5971c1bd",
   "metadata": {},
   "outputs": [
    {
     "data": {
      "text/html": [
       "<div>\n",
       "<style scoped>\n",
       "    .dataframe tbody tr th:only-of-type {\n",
       "        vertical-align: middle;\n",
       "    }\n",
       "\n",
       "    .dataframe tbody tr th {\n",
       "        vertical-align: top;\n",
       "    }\n",
       "\n",
       "    .dataframe thead th {\n",
       "        text-align: right;\n",
       "    }\n",
       "</style>\n",
       "<table border=\"1\" class=\"dataframe\">\n",
       "  <thead>\n",
       "    <tr style=\"text-align: right;\">\n",
       "      <th></th>\n",
       "      <th>signal</th>\n",
       "      <th>clop</th>\n",
       "      <th>volume</th>\n",
       "      <th>trades</th>\n",
       "    </tr>\n",
       "  </thead>\n",
       "  <tbody>\n",
       "    <tr>\n",
       "      <th>signal</th>\n",
       "      <td>1.000000</td>\n",
       "      <td>0.054327</td>\n",
       "      <td>-0.031315</td>\n",
       "      <td>-0.067110</td>\n",
       "    </tr>\n",
       "    <tr>\n",
       "      <th>clop</th>\n",
       "      <td>0.054327</td>\n",
       "      <td>1.000000</td>\n",
       "      <td>0.179868</td>\n",
       "      <td>0.156842</td>\n",
       "    </tr>\n",
       "    <tr>\n",
       "      <th>volume</th>\n",
       "      <td>-0.031315</td>\n",
       "      <td>0.179868</td>\n",
       "      <td>1.000000</td>\n",
       "      <td>0.934430</td>\n",
       "    </tr>\n",
       "    <tr>\n",
       "      <th>trades</th>\n",
       "      <td>-0.067110</td>\n",
       "      <td>0.156842</td>\n",
       "      <td>0.934430</td>\n",
       "      <td>1.000000</td>\n",
       "    </tr>\n",
       "  </tbody>\n",
       "</table>\n",
       "</div>"
      ],
      "text/plain": [
       "          signal      clop    volume    trades\n",
       "signal  1.000000  0.054327 -0.031315 -0.067110\n",
       "clop    0.054327  1.000000  0.179868  0.156842\n",
       "volume -0.031315  0.179868  1.000000  0.934430\n",
       "trades -0.067110  0.156842  0.934430  1.000000"
      ]
     },
     "execution_count": 13,
     "metadata": {},
     "output_type": "execute_result"
    }
   ],
   "source": [
    "#Statistical Analysis\n",
    "df['clop'] = np.log(df['close'])-np.log(df['open'])\n",
    "df[['signal','clop','volume','trades']].corr()"
   ]
  },
  {
   "cell_type": "code",
   "execution_count": 14,
   "id": "e7178f41",
   "metadata": {},
   "outputs": [
    {
     "data": {
      "text/html": [
       "<div>\n",
       "<style scoped>\n",
       "    .dataframe tbody tr th:only-of-type {\n",
       "        vertical-align: middle;\n",
       "    }\n",
       "\n",
       "    .dataframe tbody tr th {\n",
       "        vertical-align: top;\n",
       "    }\n",
       "\n",
       "    .dataframe thead th {\n",
       "        text-align: right;\n",
       "    }\n",
       "</style>\n",
       "<table border=\"1\" class=\"dataframe\">\n",
       "  <thead>\n",
       "    <tr style=\"text-align: right;\">\n",
       "      <th></th>\n",
       "      <th>open</th>\n",
       "      <th>high</th>\n",
       "      <th>low</th>\n",
       "      <th>close</th>\n",
       "    </tr>\n",
       "  </thead>\n",
       "  <tbody>\n",
       "    <tr>\n",
       "      <th>open</th>\n",
       "      <td>1.000000</td>\n",
       "      <td>0.988121</td>\n",
       "      <td>0.983766</td>\n",
       "      <td>0.979957</td>\n",
       "    </tr>\n",
       "    <tr>\n",
       "      <th>high</th>\n",
       "      <td>0.988121</td>\n",
       "      <td>1.000000</td>\n",
       "      <td>0.981468</td>\n",
       "      <td>0.988831</td>\n",
       "    </tr>\n",
       "    <tr>\n",
       "      <th>low</th>\n",
       "      <td>0.983766</td>\n",
       "      <td>0.981468</td>\n",
       "      <td>1.000000</td>\n",
       "      <td>0.991296</td>\n",
       "    </tr>\n",
       "    <tr>\n",
       "      <th>close</th>\n",
       "      <td>0.979957</td>\n",
       "      <td>0.988831</td>\n",
       "      <td>0.991296</td>\n",
       "      <td>1.000000</td>\n",
       "    </tr>\n",
       "  </tbody>\n",
       "</table>\n",
       "</div>"
      ],
      "text/plain": [
       "           open      high       low     close\n",
       "open   1.000000  0.988121  0.983766  0.979957\n",
       "high   0.988121  1.000000  0.981468  0.988831\n",
       "low    0.983766  0.981468  1.000000  0.991296\n",
       "close  0.979957  0.988831  0.991296  1.000000"
      ]
     },
     "execution_count": 14,
     "metadata": {},
     "output_type": "execute_result"
    }
   ],
   "source": [
    "df[['open','high','low','close']].corr()"
   ]
  },
  {
   "cell_type": "code",
   "execution_count": 15,
   "id": "f0fef8c1",
   "metadata": {},
   "outputs": [
    {
     "data": {
      "text/plain": [
       "[<matplotlib.lines.Line2D at 0x1e97d4aeb48>]"
      ]
     },
     "execution_count": 15,
     "metadata": {},
     "output_type": "execute_result"
    },
    {
     "data": {
      "image/png": "[encoded data removed]",
      "text/plain": [
       "<Figure size 432x288 with 1 Axes>"
      ]
     },
     "metadata": {
      "needs_background": "light"
     },
     "output_type": "display_data"
    }
   ],
   "source": [
    "plt.plot(df['open'])"
   ]
  },
  {
   "cell_type": "code",
   "execution_count": 16,
   "id": "42cde24e",
   "metadata": {},
   "outputs": [],
   "source": [
    "# buy it at the open and sell it at next day open\n",
    "pnl = []\n",
    "pnl.append(1000)\n",
    "for k in range(len(df)):\n",
    "    if df.iloc[k]['signal'] == 1:\n",
    "        share = pnl[-1]/df.iloc[k]['open']\n",
    "        earn = share * df.iloc[k+1]['open']\n",
    "    pnl.append(earn)    \n",
    "\n",
    "        \n",
    "pnl1 = pnl      "
   ]
  },
  {
   "cell_type": "code",
   "execution_count": 17,
   "id": "a81d9fd4",
   "metadata": {},
   "outputs": [
    {
     "data": {
      "text/plain": [
       "3365.455953950967"
      ]
     },
     "execution_count": 17,
     "metadata": {},
     "output_type": "execute_result"
    }
   ],
   "source": [
    "# buy it at the open and sell it at next day close\n",
    "pnl = []\n",
    "pnl.append(1000)\n",
    "for k in range(len(df)):\n",
    "    if df.iloc[k]['signal'] == 1:\n",
    "        share = pnl[-1]/df.iloc[k]['open']\n",
    "        pnl.append(share * df.iloc[k+1]['close'])\n",
    "        \n",
    "pnl[-1]"
   ]
  },
  {
   "cell_type": "code",
   "execution_count": 18,
   "id": "2508b974",
   "metadata": {},
   "outputs": [
    {
     "data": {
      "text/plain": [
       "1520.4094223692616"
      ]
     },
     "execution_count": 18,
     "metadata": {},
     "output_type": "execute_result"
    }
   ],
   "source": [
    "# buy it at the close and sell it at next day close\n",
    "pnl = []\n",
    "pnl.append(1000)\n",
    "for k in range(len(df)):\n",
    "    if df.iloc[k]['signal'] == 1:\n",
    "        share = pnl[-1]/df.iloc[k]['close']\n",
    "        pnl.append(share * df.iloc[k+1]['close'])\n",
    "        \n",
    "pnl[-1]"
   ]
  },
  {
   "cell_type": "code",
   "execution_count": 19,
   "id": "a03644f4",
   "metadata": {},
   "outputs": [],
   "source": [
    "# buy it at the open and sell it at close\n",
    "pnl = []\n",
    "pnl.append(1000)\n",
    "for k in range(len(df)):\n",
    "    if df.iloc[k]['signal'] == 1:\n",
    "        share = pnl[-1]/df.iloc[k]['open']\n",
    "        earn = share * df.iloc[k]['close']\n",
    "    pnl.append(earn)    \n",
    "pnl2 = pnl"
   ]
  },
  {
   "cell_type": "code",
   "execution_count": 20,
   "id": "f8541c7d",
   "metadata": {},
   "outputs": [],
   "source": [
    "baseline = df['open']/df['open'][0] * 1000"
   ]
  },
  {
   "cell_type": "code",
   "execution_count": 24,
   "id": "cb682bbf",
   "metadata": {},
   "outputs": [
    {
     "data": {
      "image/png": "[encoded data removed]",
      "text/plain": [
       "<Figure size 576x360 with 1 Axes>"
      ]
     },
     "metadata": {
      "needs_background": "light"
     },
     "output_type": "display_data"
    }
   ],
   "source": [
    "\n",
    "plt.figure(figsize=(8, 5))\n",
    "plt.plot(baseline,label = \"baseline\", linestyle=\":\")\n",
    "plt.plot(pnl1,label = \"strategy 1\", linestyle=\"--\")\n",
    "plt.plot(pnl2,label = \"strategy 2\", linestyle=\"-\")\n",
    "plt.xlabel('Days from beginning',fontsize=20)\n",
    "plt.ylabel('Profit and loss (dollars)',fontsize=20)\n",
    "plt.title('The change of profit and loss of startegy 1, 2 compared with baseline',fontsize=15)\n",
    "plt.legend( prop={'size': 15})\n",
    "plt.show()"
   ]
  },
  {
   "cell_type": "code",
   "execution_count": null,
   "id": "3af72b97",
   "metadata": {},
   "outputs": [],
   "source": []
  }
 ],
 "metadata": {
  "kernelspec": {
   "display_name": "Python 3",
   "language": "python",
   "name": "python3"
  },
  "language_info": {
   "codemirror_mode": {
    "name": "ipython",
    "version": 3
   },
   "file_extension": ".py",
   "mimetype": "text/x-python",
   "name": "python",
   "nbconvert_exporter": "python",
   "pygments_lexer": "ipython3",
   "version": "3.7.10"
  }
 },
 "nbformat": 4,
 "nbformat_minor": 5
}
