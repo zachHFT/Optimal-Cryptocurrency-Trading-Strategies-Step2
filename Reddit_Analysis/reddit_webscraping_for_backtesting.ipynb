{
 "cells": [
  {
   "cell_type": "markdown",
   "id": "ff049fab",
   "metadata": {},
   "source": [
    "### Deeper Network Analysis \n",
    "\n",
    "Now let us extract information from the popular cryptocurrency subreddits to find communities of influencial authors. We offer a list of top subreddits in the field, and then build a graph recursively. \n",
    "\n",
    "Code adapted from: https://medium.com/social-media-theories-ethics-and-analytics/network-analysis-from-social-media-data-with-networkx-13605d711590"
   ]
  },
  {
   "cell_type": "code",
   "execution_count": 1,
   "id": "f9363202",
   "metadata": {},
   "outputs": [],
   "source": [
    "import praw \n",
    "import prawcore\n",
    "import pandas as pd\n",
    "import datetime as dt\n",
    "import networkx as nx\n",
    "from networkx.algorithms import bipartite\n",
    "import numpy as np\n",
    "import requests\n",
    "import json\n",
    "import sys\n",
    "import traceback\n",
    "import time\n",
    "import matplotlib.pyplot as plt\n",
    "import matplotlib.cm as cm"
   ]
  },
  {
   "cell_type": "code",
   "execution_count": 2,
   "id": "966cd847",
   "metadata": {},
   "outputs": [],
   "source": [
    "client_id = \"rax4hz8_P0_ttyt8crPYEg\"\n",
    "client_secret = \"7zKse44yWl7Dge7kYQV6fKs20IzLdw\"\n",
    "user_agent = \"data_analysis_crypto_sentiment v1.0 by /u/K_C_7\"\n",
    "\n",
    "reddit = praw.Reddit(client_id=client_id, client_secret=client_secret, user_agent=user_agent)"
   ]
  },
  {
   "cell_type": "code",
   "execution_count": 3,
   "id": "56f16897",
   "metadata": {},
   "outputs": [],
   "source": [
    "popular_crypto_subs = ('bitcoin+'\\\n",
    "                       'btc+'\\\n",
    "                       'CryptoMarkets+'\\\n",
    "                       'bitcoinbeginners+'\\\n",
    "                       'CryptoCurrencies+'\\\n",
    "                       'altcoin+'\\\n",
    "                       'icocrypto+'\\\n",
    "                       'CryptoCurrencyTrading+'\\\n",
    "                       'Crypto_General+'\\\n",
    "                       'ico+'\\\n",
    "                       'blockchain+'\\\n",
    "                       'Best Altcoin Subreddits+'\\\n",
    "                       'ethereum+'\\\n",
    "                       'Ripple+'\\\n",
    "                       'litecoin+'\\\n",
    "                       'Monero+'\\\n",
    "                       'Stellar+'\\\n",
    "                       'binance+'\\\n",
    "                       'CoinBase+'\\\n",
    "                       'ledgerwallet+'\\\n",
    "                       'defi+'\\\n",
    "                       'EthTrader+'\\\n",
    "                       'ethfinance'\\\n",
    "                       'LitecoinTraders')"
   ]
  },
  {
   "cell_type": "markdown",
   "id": "9ac892a0",
   "metadata": {},
   "source": [
    "We now define a recursive function ```recursive_node_adder``` whose inputs are the graph in its current state, a comment and a comment's parent author. The goal is to construct a graph $g$ whose nodes are authors of comments and submissions, and the edges which connect them signify that an author has repsonded to another author's reddit input. In this way, it is sensible to define a <b> directed graph </b>, where now edges have a direction, and if redditor $r$ responds to a comment/submission of redditor $r'$, then $r \\to r'$ is a directed link between $r$ and $r'$."
   ]
  },
  {
   "cell_type": "code",
   "execution_count": 6,
   "id": "b727aab0",
   "metadata": {},
   "outputs": [],
   "source": [
    "def recursive_node_adder(g, comment, parent_author):\n",
    "    '''Recursively process comments and add them to the graph g'''    \n",
    "    if not (comment.author is None):\n",
    "        # Check if we have the node already in our graph\n",
    "        if (comment.author not in g.nodes):\n",
    "            g.add_node(comment.author)\n",
    "        # Create an edge between this comment author and the parent author\n",
    "        g.add_edge(comment.author, parent_author)\n",
    "        # Iterate through the comments\n",
    "        for reply in comment.replies.list():\n",
    "            if isinstance(reply, praw.models.MoreComments):\n",
    "                continue\n",
    "            if (comment.author is None) or (parent_author is None):\n",
    "                continue\n",
    "            # Recursively process this reply\n",
    "            recursive_node_adder(g, reply, comment.author)"
   ]
  },
  {
   "cell_type": "markdown",
   "id": "253b92a6",
   "metadata": {},
   "source": [
    "Now we extract the submissions and their metadata from the popular cryptocurrency subreddits over the past month. For the sake of time, we limit the search to the top $n$ submissions where $n$ is given the name ``` limit ``` below. If $n$ is too large during the processing one might interrupt the loop after a large enough number of iterations. "
   ]
  },
  {
   "cell_type": "code",
   "execution_count": null,
   "id": "96b30410",
   "metadata": {},
   "outputs": [],
   "source": [
    "# Create a DIRECTED graph \n",
    "g = nx.DiGraph()\n",
    "subreddit = popular_crypto_subs\n",
    "breadthCommentCount = 10\n",
    "\n",
    "targetSub = reddit.subreddit(subreddit)\n",
    "submissions = targetSub.top(limit=1000, time_filter='month') #may stop after a significant num of its\n",
    "\n",
    "i=0\n",
    "\n",
    "for post in submissions:\n",
    "    if i%50 == 0:\n",
    "        print(i)\n",
    "    #print (post.author, \"-\", post.title)\n",
    "    if not (post.author == None):\n",
    "        # Check if we have the node already in our graph\n",
    "        if (post.author not in g.nodes):\n",
    "            g.add_node(post.author)\n",
    "        post.comment_limit = breadthCommentCount\n",
    "        # Get the top few comments\n",
    "        for comment in post.comments.list():\n",
    "            # Skip MoreComment objects, which don't have authors\n",
    "            if isinstance(comment, praw.models.MoreComments):\n",
    "                continue\n",
    "            # Recursively process this reply\n",
    "            recursive_node_adder(g, comment, post.author)\n",
    "    i+=1"
   ]
  },
  {
   "cell_type": "code",
   "execution_count": 23,
   "id": "1b131599",
   "metadata": {},
   "outputs": [],
   "source": [
    "labels = list(g.nodes())\n",
    "#convert Subreddit instances into their display names for convenience\n",
    "nodes_new = list(g.nodes()) #initialise\n",
    "for index, node in enumerate(labels):\n",
    "    if isinstance(node, str) == False:\n",
    "        nodes_new[index] = node.name\n",
    "        \n",
    "mapping = dict(zip(g.nodes(), nodes_new))        \n",
    "g = nx.relabel_nodes(g, mapping)\n",
    "\n",
    "#json storage... could be useful?\n",
    "from networkx.readwrite import json_graph \n",
    "data = json_graph.node_link_data(g)\n",
    "H = json_graph.node_link_graph(data, directed=True)"
   ]
  },
  {
   "cell_type": "code",
   "execution_count": 39,
   "id": "d879ac16",
   "metadata": {},
   "outputs": [],
   "source": [
    "#save the graph\n",
    "nx.write_gml(g, \"/Users/kc/Documents/StatCompVis/CryptoProject/Optimal-Cryptocurrency-Trading-Strategies-Step2/Reddit_Analysis/graph_for_backtesting.gml\")"
   ]
  },
  {
   "cell_type": "code",
   "execution_count": 41,
   "id": "2f7d6f24",
   "metadata": {},
   "outputs": [],
   "source": [
    "#export node lists\n",
    "nodes_list = list(g.nodes())\n",
    "with open('g_nodes.txt', 'w') as filehandle:\n",
    "    for node in nodes_list:\n",
    "        filehandle.write('%s\\n' % node)"
   ]
  },
  {
   "cell_type": "markdown",
   "id": "a7a3fd6f",
   "metadata": {},
   "source": [
    "Okay, so now we can look at the graph and its properties (might be easier in R for plotting/interactivity etc purposes)."
   ]
  },
  {
   "cell_type": "code",
   "execution_count": 13,
   "id": "9bbeea2d",
   "metadata": {},
   "outputs": [
    {
     "data": {
      "text/plain": [
       "'DiGraph with 2965 nodes and 5395 edges'"
      ]
     },
     "execution_count": 13,
     "metadata": {},
     "output_type": "execute_result"
    }
   ],
   "source": [
    "nx.info(g)"
   ]
  },
  {
   "cell_type": "code",
   "execution_count": 32,
   "id": "5188931c",
   "metadata": {},
   "outputs": [],
   "source": []
  },
  {
   "cell_type": "code",
   "execution_count": null,
   "id": "935617c7",
   "metadata": {},
   "outputs": [],
   "source": []
  },
  {
   "cell_type": "code",
   "execution_count": null,
   "id": "1c29f94c",
   "metadata": {},
   "outputs": [],
   "source": []
  }
 ],
 "metadata": {
  "kernelspec": {
   "display_name": "Python 3 (ipykernel)",
   "language": "python",
   "name": "python3"
  },
  "language_info": {
   "codemirror_mode": {
    "name": "ipython",
    "version": 3
   },
   "file_extension": ".py",
   "mimetype": "text/x-python",
   "name": "python",
   "nbconvert_exporter": "python",
   "pygments_lexer": "ipython3",
   "version": "3.7.11"
  }
 },
 "nbformat": 4,
 "nbformat_minor": 5
}
